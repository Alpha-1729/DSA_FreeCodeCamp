{
 "cells": [
  {
   "cell_type": "code",
   "execution_count": null,
   "metadata": {},
   "outputs": [],
   "source": [
    "// Course Content\n",
    "\n",
    "/*\n",
    ">>>> Topics discussed in the course.\n",
    "        Singly Linked List\n",
    "        Doubly Linked List\n",
    "        Circular Singly Linked List\n",
    "        Arrays\n",
    "        Stacks\n",
    "        Queues\n",
    "        Binary Tree\n",
    "        Binary Heaps\n",
    "        Graphs\n",
    "        Matrix\n",
    "        Tries\n",
    "        Also implementations of all the above.\n",
    "\n",
    "\n",
    "\n",
    "\n",
    "\n",
    "\n",
    "         \n",
    ">>>>\n",
    ">>>>\n",
    ">>>>\n",
    "*/\n"
   ]
  },
  {
   "cell_type": "code",
   "execution_count": null,
   "metadata": {},
   "outputs": [],
   "source": []
  },
  {
   "cell_type": "code",
   "execution_count": null,
   "metadata": {},
   "outputs": [],
   "source": []
  }
 ],
 "metadata": {
  "kernelspec": {
   "display_name": "Java",
   "language": "java",
   "name": "java"
  },
  "language_info": {
   "codemirror_mode": "java",
   "file_extension": ".jshell",
   "mimetype": "text/x-java-source",
   "name": "java",
   "pygments_lexer": "java",
   "version": "21.0.2+13-LTS-58"
  }
 },
 "nbformat": 4,
 "nbformat_minor": 2
}
