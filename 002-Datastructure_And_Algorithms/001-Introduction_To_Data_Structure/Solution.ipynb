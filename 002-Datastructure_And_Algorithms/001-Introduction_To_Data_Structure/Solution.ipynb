{
 "cells": [
  {
   "cell_type": "code",
   "execution_count": null,
   "metadata": {},
   "outputs": [],
   "source": [
    "// Introduction To Data Structure\n",
    "\n",
    "/*\n",
    ">>>> Data Structure.\n",
    "        It is a way to organize data.\n",
    "        After organizing data it becomes easy to process it.\n",
    ">>>> Type of DataStructures.\n",
    "        Linear\n",
    "            Data elements are arranged in sequential manner.\n",
    "            Each members are connected to next and previous elements.\n",
    "            It is easy to traverse them.\n",
    "            They are stored sequentially in the memory.\n",
    "            They are basically in single level.\n",
    "            Eg: Array, Linked List, Stack, Queue.\n",
    "\n",
    "        Non-Linear\n",
    "            Data elements are not in sequence.\n",
    "            They are in multiple levels.\n",
    "            Eg: Tree, Graph\n",
    "\n",
    ">>>>\n",
    ">>>>\n",
    "*/\n"
   ]
  },
  {
   "cell_type": "code",
   "execution_count": null,
   "metadata": {},
   "outputs": [],
   "source": []
  },
  {
   "cell_type": "code",
   "execution_count": null,
   "metadata": {},
   "outputs": [],
   "source": []
  }
 ],
 "metadata": {
  "kernelspec": {
   "display_name": "Java",
   "language": "java",
   "name": "java"
  },
  "language_info": {
   "codemirror_mode": "java",
   "file_extension": ".jshell",
   "mimetype": "text/x-java-source",
   "name": "java",
   "pygments_lexer": "java",
   "version": "21.0.2+13-LTS-58"
  }
 },
 "nbformat": 4,
 "nbformat_minor": 2
}
