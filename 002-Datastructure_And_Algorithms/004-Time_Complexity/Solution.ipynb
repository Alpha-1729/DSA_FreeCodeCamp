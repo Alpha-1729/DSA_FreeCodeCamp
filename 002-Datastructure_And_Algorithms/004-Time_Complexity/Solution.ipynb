{
 "cells": [
  {
   "cell_type": "code",
   "execution_count": null,
   "metadata": {
    "vscode": {
     "languageId": "java"
    }
   },
   "outputs": [],
   "source": [
    "// Time Complexity\n",
    "\n",
    "/*\n",
    ">>>> Given below is the code for the time taken by program for two algorithms.\n",
    ">>>>\n",
    ">>>>\n",
    ">>>>\n",
    "*/\n"
   ]
  },
  {
   "cell_type": "code",
   "execution_count": 9,
   "metadata": {
    "vscode": {
     "languageId": "java"
    }
   },
   "outputs": [],
   "source": [
    "public class Solution {\n",
    "\n",
    "  public void main() {\n",
    "    findSumEasy(99999999);\n",
    "    findSumHard(99999999);\n",
    "  }\n",
    "\n",
    "  public void findSumEasy(int n) {\n",
    "    double now = System.currentTimeMillis();\n",
    "    int sum = n * (n + 1) / 2;\n",
    "    System.out.println(sum);\n",
    "    System.out.println(\n",
    "      \"Time taken - \" + (System.currentTimeMillis() - now) + \"millisecs\"\n",
    "    );\n",
    "  }\n",
    "\n",
    "  public void findSumHard(int n) {\n",
    "    double now = System.currentTimeMillis();\n",
    "    int sum = 0;\n",
    "    for (int i = 1; i <= n; i++) {\n",
    "      sum += i;\n",
    "    }\n",
    "    System.out.println(sum);\n",
    "    System.out.println(\n",
    "      \"Time taken - \" + (System.currentTimeMillis() - now) + \"millisecs\"\n",
    "    );\n",
    "  }\n",
    "}\n"
   ]
  },
  {
   "cell_type": "code",
   "execution_count": 11,
   "metadata": {
    "vscode": {
     "languageId": "java"
    }
   },
   "outputs": [
    {
     "name": "stdout",
     "output_type": "stream",
     "text": [
      "887459712\n",
      "Time taken - 0.0millisecs\n",
      "887459712\n",
      "Time taken - 35.0millisecs\n"
     ]
    }
   ],
   "source": [
    "Solution s = new Solution();\n",
    "s.main();"
   ]
  }
 ],
 "metadata": {
  "kernelspec": {
   "display_name": "Java",
   "language": "java",
   "name": "java"
  },
  "language_info": {
   "codemirror_mode": "java",
   "file_extension": ".jshell",
   "mimetype": "text/x-java-source",
   "name": "Java",
   "pygments_lexer": "java",
   "version": "21.0.2+13-LTS-58"
  }
 },
 "nbformat": 4,
 "nbformat_minor": 2
}
