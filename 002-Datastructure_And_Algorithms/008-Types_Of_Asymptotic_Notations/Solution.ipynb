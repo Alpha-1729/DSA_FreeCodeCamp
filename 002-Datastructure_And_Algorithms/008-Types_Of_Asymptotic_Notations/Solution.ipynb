{
 "cells": [
  {
   "cell_type": "code",
   "execution_count": null,
   "metadata": {},
   "outputs": [],
   "source": [
    "// Types Of Asymptotic Notations\n",
    "\n",
    "/*\n",
    ">>>> Omega Notation -> Give Best case of an algorithm.\n",
    ">>>> Big O Notation -> Give Worst case of an algorithm. \n",
    ">>>> Theta Notation -> Give Average case of an algorithm.\n",
    ">>>>\n",
    "*/\n"
   ]
  },
  {
   "cell_type": "code",
   "execution_count": null,
   "metadata": {},
   "outputs": [],
   "source": []
  },
  {
   "cell_type": "code",
   "execution_count": null,
   "metadata": {},
   "outputs": [],
   "source": []
  }
 ],
 "metadata": {
  "kernelspec": {
   "display_name": "Java",
   "language": "java",
   "name": "java"
  },
  "language_info": {
   "codemirror_mode": "java",
   "file_extension": ".jshell",
   "mimetype": "text/x-java-source",
   "name": "java",
   "pygments_lexer": "java",
   "version": "21.0.2+13-LTS-58"
  }
 },
 "nbformat": 4,
 "nbformat_minor": 2
}
