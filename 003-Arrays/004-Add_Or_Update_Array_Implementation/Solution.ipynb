{
 "cells": [
  {
   "cell_type": "code",
   "execution_count": null,
   "metadata": {
    "vscode": {
     "languageId": "java"
    }
   },
   "outputs": [],
   "source": [
    "// Add Or Update Array Implementation\n",
    "\n",
    "/*\n",
    ">>>>\n",
    ">>>>\n",
    ">>>>\n",
    ">>>>\n",
    "*/\n"
   ]
  },
  {
   "cell_type": "code",
   "execution_count": 9,
   "metadata": {
    "vscode": {
     "languageId": "java"
    }
   },
   "outputs": [],
   "source": [
    "public class Solution {\n",
    "\n",
    "  public void printArray(int[] arr) {\n",
    "    int n = arr.length;\n",
    "    for (int i = 0; i < n; i++) {\n",
    "      System.out.print(arr[i] + \" \");\n",
    "    }\n",
    "    System.out.println();\n",
    "  }\n",
    "\n",
    "  public void arrayDemo() {\n",
    "    int[] arr = new int[5];\n",
    "    printArray(arr);\n",
    "\n",
    "    arr[0] = 5;\n",
    "    arr[1] = 1;\n",
    "    arr[2] = 8;\n",
    "    arr[3] = 2;\n",
    "    arr[4] = 10;\n",
    "    printArray(arr);\n",
    "\n",
    "    arr[4] = 100;\n",
    "    printArray(arr);\n",
    "\n",
    "    // Printing the length of the array.\n",
    "    System.out.println(arr.length);\n",
    "\n",
    "    // Declaration and initialization.\n",
    "    int[] arr2 = { 5, 1, 8, 10 };\n",
    "    printArray(arr2);\n",
    "  }\n",
    "}\n"
   ]
  },
  {
   "cell_type": "code",
   "execution_count": 10,
   "metadata": {
    "vscode": {
     "languageId": "java"
    }
   },
   "outputs": [
    {
     "name": "stdout",
     "output_type": "stream",
     "text": [
      "0 0 0 0 0 \n",
      "5 1 8 2 10 \n",
      "5 1 8 2 100 \n",
      "5\n",
      "5 1 8 10 \n"
     ]
    }
   ],
   "source": [
    "Solution s = new Solution();\n",
    "s.arrayDemo();"
   ]
  },
  {
   "cell_type": "code",
   "execution_count": null,
   "metadata": {
    "vscode": {
     "languageId": "java"
    }
   },
   "outputs": [],
   "source": []
  }
 ],
 "metadata": {
  "kernelspec": {
   "display_name": "Java",
   "language": "java",
   "name": "java"
  },
  "language_info": {
   "codemirror_mode": "java",
   "file_extension": ".jshell",
   "mimetype": "text/x-java-source",
   "name": "Java",
   "pygments_lexer": "java",
   "version": "21.0.2+13-LTS-58"
  }
 },
 "nbformat": 4,
 "nbformat_minor": 2
}
