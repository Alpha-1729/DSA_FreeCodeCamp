{
 "cells": [
  {
   "cell_type": "code",
   "execution_count": null,
   "metadata": {
    "vscode": {
     "languageId": "java"
    }
   },
   "outputs": [],
   "source": [
    "// Print Elements In An Array\n",
    "\n",
    "/*\n",
    ">>>> Given an array of integers, return an array with even integers removed.\n",
    ">>>>\n",
    ">>>>\n",
    ">>>>\n",
    "*/\n"
   ]
  },
  {
   "cell_type": "code",
   "execution_count": 2,
   "metadata": {
    "vscode": {
     "languageId": "java"
    }
   },
   "outputs": [],
   "source": [
    "public class Solution {\n",
    "\n",
    "  public int[] removeEven(int[] arr) {\n",
    "    int oddCount = 0;\n",
    "    for (int i = 0; i < arr.length; i++) {\n",
    "      if (arr[i] % 2 != 0) {\n",
    "        oddCount++;\n",
    "      }\n",
    "    }\n",
    "\n",
    "    int[] result = new int[oddCount];\n",
    "    int index = 0;\n",
    "\n",
    "    for (int i = 0; i < arr.length; i++) {\n",
    "      if (arr[i] % 2 != 0) {\n",
    "        result[index] = arr[i];\n",
    "        index++;\n",
    "      }\n",
    "    }\n",
    "    return result;\n",
    "  }\n",
    "}\n"
   ]
  },
  {
   "cell_type": "code",
   "execution_count": 3,
   "metadata": {
    "vscode": {
     "languageId": "java"
    }
   },
   "outputs": [
    {
     "data": {
      "text/plain": [
       "[I@bc39ea3"
      ]
     },
     "execution_count": 3,
     "metadata": {},
     "output_type": "execute_result"
    }
   ],
   "source": [
    "Solution s = new Solution();\n",
    "s.removeEven(new int[]{3,2,4,7,10,6,5});"
   ]
  },
  {
   "cell_type": "code",
   "execution_count": null,
   "metadata": {
    "vscode": {
     "languageId": "java"
    }
   },
   "outputs": [],
   "source": []
  }
 ],
 "metadata": {
  "kernelspec": {
   "display_name": "Java",
   "language": "java",
   "name": "java"
  },
  "language_info": {
   "codemirror_mode": "java",
   "file_extension": ".jshell",
   "mimetype": "text/x-java-source",
   "name": "Java",
   "pygments_lexer": "java",
   "version": "21.0.2+13-LTS-58"
  }
 },
 "nbformat": 4,
 "nbformat_minor": 2
}
