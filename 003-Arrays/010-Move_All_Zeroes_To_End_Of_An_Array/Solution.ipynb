{
 "cells": [
  {
   "cell_type": "code",
   "execution_count": null,
   "metadata": {
    "vscode": {
     "languageId": "java"
    }
   },
   "outputs": [],
   "source": [
    "// Move All Zeroes To End Of An Array\n",
    "\n",
    "/*\n",
    ">>>>\n",
    ">>>>\n",
    ">>>>\n",
    ">>>>\n",
    "*/\n"
   ]
  },
  {
   "cell_type": "code",
   "execution_count": 1,
   "metadata": {
    "vscode": {
     "languageId": "java"
    }
   },
   "outputs": [],
   "source": [
    "public class Solution {\n",
    "\n",
    "  public void moveZeroes(int[] arr, int n) {\n",
    "    int j = 0;\n",
    "    for (int i = 0; i < n; i++) {\n",
    "      if (arr[i] != 0 && arr[j] == 0) {\n",
    "        int temp = arr[i];\n",
    "        arr[i] = arr[j];\n",
    "        arr[j] = temp;\n",
    "      }\n",
    "      if (arr[j] != 0) {\n",
    "        j++;\n",
    "      }\n",
    "    }\n",
    "  }\n",
    "}\n"
   ]
  },
  {
   "cell_type": "code",
   "execution_count": 5,
   "metadata": {
    "vscode": {
     "languageId": "java"
    }
   },
   "outputs": [
    {
     "name": "stdout",
     "output_type": "stream",
     "text": [
      "[1, 2, 3, 4, 5, 6, 0, 0]\n"
     ]
    }
   ],
   "source": [
    "Solution s = new Solution();\n",
    "int[] arr = {1, 2, 0, 3, 0, 4, 5, 6};\n",
    "s.moveZeroes(arr, arr.length);\n",
    "System.out.println(Arrays.toString(arr));\n"
   ]
  },
  {
   "cell_type": "code",
   "execution_count": null,
   "metadata": {
    "vscode": {
     "languageId": "java"
    }
   },
   "outputs": [],
   "source": []
  }
 ],
 "metadata": {
  "kernelspec": {
   "display_name": "Java",
   "language": "java",
   "name": "java"
  },
  "language_info": {
   "codemirror_mode": "java",
   "file_extension": ".jshell",
   "mimetype": "text/x-java-source",
   "name": "Java",
   "pygments_lexer": "java",
   "version": "21.0.2+13-LTS-58"
  }
 },
 "nbformat": 4,
 "nbformat_minor": 2
}
