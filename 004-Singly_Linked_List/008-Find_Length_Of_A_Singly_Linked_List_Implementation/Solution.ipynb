{
 "cells": [
  {
   "cell_type": "code",
   "execution_count": null,
   "metadata": {
    "vscode": {
     "languageId": "java"
    }
   },
   "outputs": [],
   "source": [
    "// Find Length Of A Singly Linked List Implementation\n",
    "\n",
    "/*\n",
    ">>>>\n",
    ">>>>\n",
    ">>>>\n",
    ">>>>\n",
    "*/\n"
   ]
  },
  {
   "cell_type": "code",
   "execution_count": 10,
   "metadata": {
    "vscode": {
     "languageId": "java"
    }
   },
   "outputs": [],
   "source": [
    "public class Solution {\n",
    "\n",
    "  private ListNode head;\n",
    "\n",
    "  private static class ListNode {\n",
    "\n",
    "    private int data;\n",
    "    private ListNode next;\n",
    "\n",
    "    public ListNode(int data) {\n",
    "      this.data = data;\n",
    "      this.next = null;\n",
    "    }\n",
    "  }\n",
    "\n",
    "  public void display() {\n",
    "    ListNode current = head;\n",
    "    while (current != null) {\n",
    "      System.out.print(current.data + \" --> \");\n",
    "      current = current.next;\n",
    "    }\n",
    "    System.out.print(\"null\");\n",
    "  }\n",
    "\n",
    "  public int getLength() {\n",
    "    if (head == null) {\n",
    "      return 0;\n",
    "    }\n",
    "\n",
    "    int count = 0;\n",
    "    ListNode current = head;\n",
    "    while (current != null) {\n",
    "      count++;\n",
    "      current = current.next;\n",
    "    }\n",
    "\n",
    "    return count;\n",
    "  }\n",
    "\n",
    "  public static void main() {\n",
    "    Solution s = new Solution();\n",
    "    s.head = new ListNode(10);\n",
    "    ListNode second = new ListNode(1);\n",
    "    ListNode third = new ListNode(8);\n",
    "    ListNode fourth = new ListNode(11);\n",
    "\n",
    "    // Now we will connect them together.\n",
    "    s.head.next = second;\n",
    "    second.next = third;\n",
    "    third.next = fourth;\n",
    "\n",
    "    System.out.println(s.getLength());\n",
    "    s.display();\n",
    "  }\n",
    "}\n"
   ]
  },
  {
   "cell_type": "code",
   "execution_count": 11,
   "metadata": {
    "vscode": {
     "languageId": "java"
    }
   },
   "outputs": [
    {
     "name": "stdout",
     "output_type": "stream",
     "text": [
      "4\n",
      "10 --> 1 --> 8 --> 11 --> null"
     ]
    }
   ],
   "source": [
    "Solution s = new Solution();\n",
    "s.main();"
   ]
  },
  {
   "cell_type": "code",
   "execution_count": null,
   "metadata": {
    "vscode": {
     "languageId": "java"
    }
   },
   "outputs": [],
   "source": []
  }
 ],
 "metadata": {
  "kernelspec": {
   "display_name": "Java",
   "language": "java",
   "name": "java"
  },
  "language_info": {
   "codemirror_mode": "java",
   "file_extension": ".jshell",
   "mimetype": "text/x-java-source",
   "name": "Java",
   "pygments_lexer": "java",
   "version": "21.0.2+13-LTS-58"
  }
 },
 "nbformat": 4,
 "nbformat_minor": 2
}
