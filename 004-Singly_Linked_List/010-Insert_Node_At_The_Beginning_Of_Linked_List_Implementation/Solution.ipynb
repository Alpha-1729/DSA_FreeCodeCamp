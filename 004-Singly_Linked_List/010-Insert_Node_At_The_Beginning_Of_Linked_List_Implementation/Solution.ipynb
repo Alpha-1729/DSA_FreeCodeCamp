{
 "cells": [
  {
   "cell_type": "code",
   "execution_count": null,
   "metadata": {
    "vscode": {
     "languageId": "java"
    }
   },
   "outputs": [],
   "source": [
    "// Insert Node At The Beginning Of Linked List Implementation\n",
    "\n",
    "/*\n",
    ">>>>\n",
    ">>>>\n",
    ">>>>\n",
    ">>>>\n",
    "*/\n"
   ]
  },
  {
   "cell_type": "code",
   "execution_count": 3,
   "metadata": {
    "vscode": {
     "languageId": "java"
    }
   },
   "outputs": [],
   "source": [
    "public class Solution {\n",
    "\n",
    "  private ListNode head;\n",
    "\n",
    "  private static class ListNode {\n",
    "\n",
    "    private int data;\n",
    "    private ListNode next;\n",
    "\n",
    "    public ListNode(int data) {\n",
    "      this.data = data;\n",
    "      this.next = null;\n",
    "    }\n",
    "  }\n",
    "\n",
    "  public void display() {\n",
    "    ListNode current = head;\n",
    "    while (current != null) {\n",
    "      System.out.print(current.data + \" --> \");\n",
    "      current = current.next;\n",
    "    }\n",
    "    System.out.print(\"null\");\n",
    "  }\n",
    "\n",
    "  public int getLength() {\n",
    "    if (head == null) {\n",
    "      return 0;\n",
    "    }\n",
    "\n",
    "    int count = 0;\n",
    "    ListNode current = head;\n",
    "    while (current != null) {\n",
    "      count++;\n",
    "      current = current.next;\n",
    "    }\n",
    "\n",
    "    return count;\n",
    "  }\n",
    "\n",
    "  public void insertFirst(int value) {\n",
    "    ListNode newNode = new ListNode(value);\n",
    "    newNode.next = head;\n",
    "    head = newNode;\n",
    "  }\n",
    "\n",
    "  public static void main() {\n",
    "    Solution s = new Solution();\n",
    "    s.insertFirst(11);\n",
    "    s.insertFirst(8);\n",
    "    s.insertFirst(3);\n",
    "    s.display();\n",
    "  }\n",
    "}\n"
   ]
  },
  {
   "cell_type": "code",
   "execution_count": 4,
   "metadata": {
    "vscode": {
     "languageId": "java"
    }
   },
   "outputs": [
    {
     "name": "stdout",
     "output_type": "stream",
     "text": [
      "3 --> 8 --> 11 --> null"
     ]
    }
   ],
   "source": [
    "Solution s = new Solution();\n",
    "s.main();"
   ]
  },
  {
   "cell_type": "code",
   "execution_count": null,
   "metadata": {
    "vscode": {
     "languageId": "java"
    }
   },
   "outputs": [],
   "source": []
  }
 ],
 "metadata": {
  "kernelspec": {
   "display_name": "Java",
   "language": "java",
   "name": "java"
  },
  "language_info": {
   "codemirror_mode": "java",
   "file_extension": ".jshell",
   "mimetype": "text/x-java-source",
   "name": "Java",
   "pygments_lexer": "java",
   "version": "21.0.2+13-LTS-58"
  }
 },
 "nbformat": 4,
 "nbformat_minor": 2
}
