{
 "cells": [
  {
   "cell_type": "code",
   "execution_count": null,
   "metadata": {},
   "outputs": [],
   "source": [
    "\n",
    "// How To Implement Doubly Linked List\n",
    "/*\n",
    ">>>>\n",
    ">>>>\n",
    ">>>>\n",
    ">>>>\n",
    "*/\n"
   ]
  },
  {
   "cell_type": "code",
   "execution_count": null,
   "metadata": {},
   "outputs": [],
   "source": [
    "public class DoublyLinkedList {\n",
    "\n",
    "  private ListNode head;\n",
    "  private ListNode tail;\n",
    "  private int length;\n",
    "\n",
    "  private class ListNode {\n",
    "\n",
    "    private int date;\n",
    "    private ListNode next;\n",
    "    private ListNode previous;\n",
    "\n",
    "    public ListNode(int data) {\n",
    "      this.data = data;\n",
    "    }\n",
    "  }\n",
    "\n",
    "  public DoublyLinkedList() {\n",
    "    this.head = null;\n",
    "    this.tail = null;\n",
    "    this.length = 0;\n",
    "  }\n",
    "\n",
    "  public boolean isEmpty() {\n",
    "    return length == 0; // head==null\n",
    "  }\n",
    "\n",
    "  public int length() {\n",
    "    return length;\n",
    "  }\n",
    "}\n"
   ]
  },
  {
   "cell_type": "code",
   "execution_count": null,
   "metadata": {},
   "outputs": [],
   "source": [
    "Solution s = new Solution();"
   ]
  }
 ],
 "metadata": {
  "kernelspec": {
   "display_name": "Java",
   "language": "java",
   "name": "java"
  },
  "language_info": {
   "codemirror_mode": "java",
   "file_extension": ".jshell",
   "mimetype": "text/x-java-source",
   "name": "java",
   "pygments_lexer": "java",
   "version": "21.0.2+13-LTS-58"
  }
 },
 "nbformat": 4,
 "nbformat_minor": 2
}
