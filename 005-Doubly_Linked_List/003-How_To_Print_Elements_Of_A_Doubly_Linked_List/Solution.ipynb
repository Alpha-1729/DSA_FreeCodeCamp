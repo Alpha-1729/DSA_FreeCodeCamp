{
 "cells": [
  {
   "cell_type": "code",
   "execution_count": null,
   "metadata": {
    "vscode": {
     "languageId": "java"
    }
   },
   "outputs": [],
   "source": [
    "// How To Print Elements Of A Doubly Linked List\n",
    "\n",
    "/*\n",
    ">>>>\n",
    ">>>>\n",
    ">>>>\n",
    ">>>>\n",
    "*/\n"
   ]
  },
  {
   "cell_type": "code",
   "execution_count": 10,
   "metadata": {
    "vscode": {
     "languageId": "java"
    }
   },
   "outputs": [],
   "source": [
    "public class DoublyLinkedList {\n",
    "\n",
    "  private ListNode head;\n",
    "  private ListNode tail;\n",
    "  private int length;\n",
    "\n",
    "  private class ListNode {\n",
    "\n",
    "    private int data;\n",
    "    private ListNode next;\n",
    "    private ListNode previous;\n",
    "\n",
    "    public ListNode(int data) {\n",
    "      this.data = data;\n",
    "    }\n",
    "  }\n",
    "\n",
    "  public DoublyLinkedList() {\n",
    "    this.head = null;\n",
    "    this.tail = null;\n",
    "    this.length = 0;\n",
    "  }\n",
    "\n",
    "  public boolean isEmpty() {\n",
    "    return length == 0; // head==null\n",
    "  }\n",
    "\n",
    "  public int length() {\n",
    "    return length;\n",
    "  }\n",
    "\n",
    "  public void insertLast(int value) {\n",
    "    ListNode newNode = new ListNode(value);\n",
    "    if (isEmpty()) {\n",
    "      head = newNode;\n",
    "    } else {\n",
    "      tail.next = newNode;\n",
    "    }\n",
    "    newNode.previous = tail;\n",
    "    tail = newNode;\n",
    "    length++;\n",
    "  }\n",
    "\n",
    "  public void displayForward() {\n",
    "    if (head == null) {\n",
    "      return;\n",
    "    }\n",
    "\n",
    "    ListNode temp = head;\n",
    "    while (temp != null) {\n",
    "      System.out.print(temp.data + \" --> \");\n",
    "      temp = temp.next;\n",
    "    }\n",
    "    System.out.println(\"null\");\n",
    "  }\n",
    "\n",
    "  public void displayBackward() {\n",
    "    if (tail == null) {\n",
    "      return;\n",
    "    }\n",
    "\n",
    "    ListNode temp = tail;\n",
    "    while (temp != null) {\n",
    "      System.out.print(temp.data + \" --> \");\n",
    "      temp = temp.previous;\n",
    "    }\n",
    "    System.out.println(\"null\");\n",
    "  }\n",
    "\n",
    "  public void main() {\n",
    "    DoublyLinkedList dll = new DoublyLinkedList();\n",
    "    dll.insertLast(1);\n",
    "    dll.insertLast(4);\n",
    "    dll.insertLast(7);\n",
    "    dll.insertLast(10);\n",
    "    dll.displayForward();\n",
    "    dll.displayBackward();\n",
    "  }\n",
    "}\n"
   ]
  },
  {
   "cell_type": "code",
   "execution_count": 11,
   "metadata": {
    "vscode": {
     "languageId": "java"
    }
   },
   "outputs": [
    {
     "name": "stdout",
     "output_type": "stream",
     "text": [
      "1 --> 4 --> 7 --> 10 --> null\n",
      "10 --> 7 --> 4 --> 1 --> null\n"
     ]
    }
   ],
   "source": [
    "DoublyLinkedList s = new DoublyLinkedList();\n",
    "s.main();"
   ]
  },
  {
   "cell_type": "code",
   "execution_count": null,
   "metadata": {
    "vscode": {
     "languageId": "java"
    }
   },
   "outputs": [],
   "source": []
  }
 ],
 "metadata": {
  "kernelspec": {
   "display_name": "Java",
   "language": "java",
   "name": "java"
  },
  "language_info": {
   "codemirror_mode": "java",
   "file_extension": ".jshell",
   "mimetype": "text/x-java-source",
   "name": "Java",
   "pygments_lexer": "java",
   "version": "21.0.2+13-LTS-58"
  }
 },
 "nbformat": 4,
 "nbformat_minor": 2
}
