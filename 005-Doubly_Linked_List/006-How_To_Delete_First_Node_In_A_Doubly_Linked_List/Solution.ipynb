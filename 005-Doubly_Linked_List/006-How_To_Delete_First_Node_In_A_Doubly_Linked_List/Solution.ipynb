{
 "cells": [
  {
   "cell_type": "code",
   "execution_count": null,
   "metadata": {
    "vscode": {
     "languageId": "java"
    }
   },
   "outputs": [],
   "source": [
    "// How To Delete First Node In A Doubly Linked List\n",
    "\n",
    "/*\n",
    ">>>>\n",
    ">>>>\n",
    ">>>>\n",
    ">>>>\n",
    "*/\n"
   ]
  },
  {
   "cell_type": "code",
   "execution_count": 2,
   "metadata": {
    "vscode": {
     "languageId": "java"
    }
   },
   "outputs": [],
   "source": [
    "public class DoublyLinkedList {\n",
    "\n",
    "  private ListNode head;\n",
    "  private ListNode tail;\n",
    "  private int length;\n",
    "\n",
    "  private class ListNode {\n",
    "\n",
    "    private int data;\n",
    "    private ListNode next;\n",
    "    private ListNode previous;\n",
    "\n",
    "    public ListNode(int data) {\n",
    "      this.data = data;\n",
    "    }\n",
    "  }\n",
    "\n",
    "  public DoublyLinkedList() {\n",
    "    this.head = null;\n",
    "    this.tail = null;\n",
    "    this.length = 0;\n",
    "  }\n",
    "\n",
    "  public boolean isEmpty() {\n",
    "    return length == 0; // head==null\n",
    "  }\n",
    "\n",
    "  public int length() {\n",
    "    return length;\n",
    "  }\n",
    "\n",
    "  public void insertLast(int value) {\n",
    "    ListNode newNode = new ListNode(value);\n",
    "    if (isEmpty()) {\n",
    "      head = newNode;\n",
    "    } else {\n",
    "      tail.next = newNode;\n",
    "    }\n",
    "    newNode.previous = tail;\n",
    "    tail = newNode;\n",
    "    length++;\n",
    "  }\n",
    "\n",
    "  public void displayForward() {\n",
    "    if (head == null) {\n",
    "      return;\n",
    "    }\n",
    "\n",
    "    ListNode temp = head;\n",
    "    while (temp != null) {\n",
    "      System.out.print(temp.data + \" --> \");\n",
    "      temp = temp.next;\n",
    "    }\n",
    "    System.out.println(\"null\");\n",
    "  }\n",
    "\n",
    "  public void displayBackward() {\n",
    "    if (tail == null) {\n",
    "      return;\n",
    "    }\n",
    "\n",
    "    ListNode temp = tail;\n",
    "    while (temp != null) {\n",
    "      System.out.print(temp.data + \" --> \");\n",
    "      temp = temp.previous;\n",
    "    }\n",
    "    System.out.println(\"null\");\n",
    "  }\n",
    "\n",
    "  public void insertFirst(int value) {\n",
    "    ListNode newNode = new ListNode(value);\n",
    "    if (isEmpty()) {\n",
    "      tail = newNode;\n",
    "    } else {\n",
    "      head.previous = newNode;\n",
    "    }\n",
    "    newNode.next = head;\n",
    "    head = newNode;\n",
    "    length++;\n",
    "  }\n",
    "\n",
    "  public void insertEnd(int value) {\n",
    "    ListNode newNode = new ListNode(value);\n",
    "    if (isEmpty()) {\n",
    "      head = newNode;\n",
    "    } else {\n",
    "      tail.next = newNode;\n",
    "      newNode.previous = tail;\n",
    "    }\n",
    "    tail = newNode;\n",
    "    length++;\n",
    "  }\n",
    "\n",
    "  public ListNode deleteFirst() {\n",
    "    if (isEmpty()) {\n",
    "      throw new NoSuchElementException();\n",
    "    }\n",
    "    ListNode temp = head;\n",
    "    if (head == tail) {\n",
    "      tail = null;\n",
    "    } else {\n",
    "      head.next.previous = null;\n",
    "    }\n",
    "    head = head.next;\n",
    "    temp.next = null;\n",
    "    length--;\n",
    "    return temp;\n",
    "  }\n",
    "\n",
    "  public void main() {\n",
    "    DoublyLinkedList dll = new DoublyLinkedList();\n",
    "    dll.insertFirst(1);\n",
    "    dll.insertFirst(4);\n",
    "    dll.insertFirst(7);\n",
    "    dll.insertEnd(200);\n",
    "    dll.displayForward();\n",
    "    dll.deleteFirst();\n",
    "    dll.displayForward();\n",
    "  }\n",
    "}\n"
   ]
  },
  {
   "cell_type": "code",
   "execution_count": 3,
   "metadata": {
    "vscode": {
     "languageId": "java"
    }
   },
   "outputs": [
    {
     "name": "stdout",
     "output_type": "stream",
     "text": [
      "7 --> 4 --> 1 --> 200 --> null\n",
      "4 --> 1 --> 200 --> null\n"
     ]
    }
   ],
   "source": [
    "DoublyLinkedList s = new DoublyLinkedList();\n",
    "s.main();"
   ]
  },
  {
   "cell_type": "code",
   "execution_count": null,
   "metadata": {
    "vscode": {
     "languageId": "java"
    }
   },
   "outputs": [],
   "source": []
  }
 ],
 "metadata": {
  "kernelspec": {
   "display_name": "Java",
   "language": "java",
   "name": "java"
  },
  "language_info": {
   "codemirror_mode": "java",
   "file_extension": ".jshell",
   "mimetype": "text/x-java-source",
   "name": "Java",
   "pygments_lexer": "java",
   "version": "21.0.2+13-LTS-58"
  }
 },
 "nbformat": 4,
 "nbformat_minor": 2
}
