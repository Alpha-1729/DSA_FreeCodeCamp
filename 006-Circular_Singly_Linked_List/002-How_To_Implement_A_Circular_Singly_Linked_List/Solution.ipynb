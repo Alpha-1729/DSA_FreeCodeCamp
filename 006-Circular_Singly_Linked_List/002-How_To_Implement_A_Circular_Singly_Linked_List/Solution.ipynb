{
 "cells": [
  {
   "cell_type": "code",
   "execution_count": null,
   "metadata": {
    "vscode": {
     "languageId": "java"
    }
   },
   "outputs": [],
   "source": [
    "// How To Implement A Circular Singly Linked List\n",
    "\n",
    "/*\n",
    ">>>>\n",
    ">>>>\n",
    ">>>>\n",
    ">>>>\n",
    "*/\n"
   ]
  },
  {
   "cell_type": "code",
   "execution_count": 2,
   "metadata": {
    "vscode": {
     "languageId": "java"
    }
   },
   "outputs": [],
   "source": [
    "public class CircularSinglyLinkedList {\n",
    "\n",
    "  private ListNode last;\n",
    "  private int length;\n",
    "\n",
    "  private class ListNode {\n",
    "\n",
    "    private ListNode next;\n",
    "    private int data;\n",
    "\n",
    "    public ListNode(int data) {\n",
    "      this.data = data;\n",
    "    }\n",
    "  }\n",
    "\n",
    "  public CircularSinglyLinkedList() {\n",
    "    last = null;\n",
    "    length = 0;\n",
    "  }\n",
    "\n",
    "  public int length() {\n",
    "    return length;\n",
    "  }\n",
    "\n",
    "  public boolean isEmpty() {\n",
    "    return length == 0;\n",
    "  }\n",
    "\n",
    "  public void createCircularLinkedList() {\n",
    "    ListNode first = new ListNode(1);\n",
    "    ListNode second = new ListNode(2);\n",
    "    ListNode third = new ListNode(5);\n",
    "    ListNode fourth = new ListNode(10);\n",
    "\n",
    "    first.next = second;\n",
    "    second.next = third;\n",
    "    third.next = fourth;\n",
    "    fourth.next = first;\n",
    "\n",
    "    last = fourth;\n",
    "  }\n",
    "\n",
    "  public static void main() {\n",
    "    CircularSinglyLinkedList csll = new CircularSinglyLinkedList();\n",
    "    csll.createCircularLinkedList();\n",
    "  }\n",
    "}\n"
   ]
  },
  {
   "cell_type": "code",
   "execution_count": 3,
   "metadata": {
    "vscode": {
     "languageId": "java"
    }
   },
   "outputs": [],
   "source": [
    "CircularSinglyLinkedList s = new CircularSinglyLinkedList();"
   ]
  },
  {
   "cell_type": "code",
   "execution_count": null,
   "metadata": {
    "vscode": {
     "languageId": "java"
    }
   },
   "outputs": [],
   "source": []
  }
 ],
 "metadata": {
  "kernelspec": {
   "display_name": "Java",
   "language": "java",
   "name": "java"
  },
  "language_info": {
   "codemirror_mode": "java",
   "file_extension": ".jshell",
   "mimetype": "text/x-java-source",
   "name": "Java",
   "pygments_lexer": "java",
   "version": "21.0.2+13-LTS-58"
  }
 },
 "nbformat": 4,
 "nbformat_minor": 2
}
