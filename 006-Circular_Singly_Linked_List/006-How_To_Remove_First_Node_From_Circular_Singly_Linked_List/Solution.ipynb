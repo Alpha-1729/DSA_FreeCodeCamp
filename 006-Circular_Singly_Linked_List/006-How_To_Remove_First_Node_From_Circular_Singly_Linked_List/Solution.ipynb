{
 "cells": [
  {
   "cell_type": "code",
   "execution_count": null,
   "metadata": {
    "vscode": {
     "languageId": "java"
    }
   },
   "outputs": [],
   "source": [
    "// How To Remove First Node From Circular Singly Linked List\n",
    "\n",
    "/*\n",
    ">>>>\n",
    ">>>>\n",
    ">>>>\n",
    ">>>>\n",
    "*/\n"
   ]
  },
  {
   "cell_type": "code",
   "execution_count": 12,
   "metadata": {
    "vscode": {
     "languageId": "java"
    }
   },
   "outputs": [],
   "source": [
    "public class CircularSinglyLinkedList {\n",
    "\n",
    "  private ListNode last;\n",
    "  private int length;\n",
    "\n",
    "  private class ListNode {\n",
    "\n",
    "    private ListNode next;\n",
    "    private int data;\n",
    "\n",
    "    public ListNode(int data) {\n",
    "      this.data = data;\n",
    "    }\n",
    "  }\n",
    "\n",
    "  public CircularSinglyLinkedList() {\n",
    "    last = null;\n",
    "    length = 0;\n",
    "  }\n",
    "\n",
    "  public int length() {\n",
    "    return length;\n",
    "  }\n",
    "\n",
    "  public boolean isEmpty() {\n",
    "    return length == 0;\n",
    "  }\n",
    "\n",
    "  public void createCircularLinkedList() {\n",
    "    ListNode first = new ListNode(1);\n",
    "    ListNode second = new ListNode(2);\n",
    "    ListNode third = new ListNode(5);\n",
    "    ListNode fourth = new ListNode(10);\n",
    "\n",
    "    first.next = second;\n",
    "    second.next = third;\n",
    "    third.next = fourth;\n",
    "    fourth.next = first;\n",
    "\n",
    "    last = fourth;\n",
    "  }\n",
    "\n",
    "  public void display() {\n",
    "    if (last == null) {\n",
    "      return;\n",
    "    }\n",
    "\n",
    "    ListNode first = last.next;\n",
    "\n",
    "    while (first != last) {\n",
    "      System.out.print(first.data + \" --> \");\n",
    "      first = first.next;\n",
    "    }\n",
    "    System.out.println(first.data);\n",
    "  }\n",
    "\n",
    "  public void insertFirst(int data) {\n",
    "    ListNode temp = new ListNode(data);\n",
    "    if (last == null) {\n",
    "      last = temp;\n",
    "    } else {\n",
    "      temp.next = last.next;\n",
    "    }\n",
    "\n",
    "    last.next = temp;\n",
    "    length++;\n",
    "  }\n",
    "\n",
    "  public void insertLast(int data) {\n",
    "    ListNode temp = new ListNode(data);\n",
    "    if (last == null) {\n",
    "      last = temp;\n",
    "      last.next = last;\n",
    "    } else {\n",
    "      temp.next = last.next;\n",
    "      last.next = temp;\n",
    "      last = temp;\n",
    "    }\n",
    "    length++;\n",
    "  }\n",
    "\n",
    "  public int removeFirst() {\n",
    "    if (isEmpty()) {\n",
    "      throw new NoSuchElementException(\n",
    "        \"Circular Singly Linked List is already empty\"\n",
    "      );\n",
    "    }\n",
    "\n",
    "    ListNode temp = last.next;\n",
    "    int result = temp.data;\n",
    "    if (last.next == last) {\n",
    "      last = null;\n",
    "    } else {\n",
    "      last.next = temp.next;\n",
    "    }\n",
    "    temp.next = null;\n",
    "    length--;\n",
    "    return result;\n",
    "  }\n",
    "\n",
    "  public static void main() {\n",
    "    CircularSinglyLinkedList csll = new CircularSinglyLinkedList();\n",
    "    csll.insertLast(2);\n",
    "    csll.insertLast(4);\n",
    "    csll.insertLast(6);\n",
    "    csll.display();\n",
    "    System.out.println(csll.removeFirst());\n",
    "    csll.display();\n",
    "  }\n",
    "}\n"
   ]
  },
  {
   "cell_type": "code",
   "execution_count": 13,
   "metadata": {
    "vscode": {
     "languageId": "java"
    }
   },
   "outputs": [
    {
     "name": "stdout",
     "output_type": "stream",
     "text": [
      "2 --> 4 --> 6\n",
      "2\n",
      "4 --> 6\n"
     ]
    }
   ],
   "source": [
    "CircularSinglyLinkedList csll = new CircularSinglyLinkedList();\n",
    "csll.main();"
   ]
  },
  {
   "cell_type": "code",
   "execution_count": null,
   "metadata": {
    "vscode": {
     "languageId": "java"
    }
   },
   "outputs": [],
   "source": []
  }
 ],
 "metadata": {
  "kernelspec": {
   "display_name": "Java",
   "language": "java",
   "name": "java"
  },
  "language_info": {
   "codemirror_mode": "java",
   "file_extension": ".jshell",
   "mimetype": "text/x-java-source",
   "name": "Java",
   "pygments_lexer": "java",
   "version": "21.0.2+13-LTS-58"
  }
 },
 "nbformat": 4,
 "nbformat_minor": 2
}
