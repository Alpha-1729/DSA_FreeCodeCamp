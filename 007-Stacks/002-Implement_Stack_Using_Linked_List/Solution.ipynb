{
 "cells": [
  {
   "cell_type": "code",
   "execution_count": null,
   "metadata": {
    "vscode": {
     "languageId": "java"
    }
   },
   "outputs": [],
   "source": [
    "// Implement Stack Using Linked List\n",
    "\n",
    "/*\n",
    ">>>>\n",
    ">>>>\n",
    ">>>>\n",
    ">>>>\n",
    "*/\n"
   ]
  },
  {
   "cell_type": "code",
   "execution_count": 4,
   "metadata": {
    "vscode": {
     "languageId": "java"
    }
   },
   "outputs": [],
   "source": [
    "public class Stack {\n",
    "\n",
    "  private ListNode top;\n",
    "  private int length;\n",
    "\n",
    "  private class ListNode {\n",
    "\n",
    "    private int data;\n",
    "    private ListNode next;\n",
    "\n",
    "    public ListNode(int data) {\n",
    "      this.data = data;\n",
    "    }\n",
    "  }\n",
    "\n",
    "  public Stack() {\n",
    "    top = null;\n",
    "    length = 0;\n",
    "  }\n",
    "\n",
    "  public int length() {\n",
    "    return length;\n",
    "  }\n",
    "\n",
    "  public boolean isEmpty() {\n",
    "    return length == 0;\n",
    "  }\n",
    "\n",
    "  public void push(int data) {\n",
    "    ListNode temp = new ListNode(data);\n",
    "    temp.next = top;\n",
    "    top = temp;\n",
    "    length++;\n",
    "  }\n",
    "\n",
    "  public int pop() {\n",
    "    if (isEmpty()) {\n",
    "      throw new EmptyStackException();\n",
    "    }\n",
    "\n",
    "    int result = top.data;\n",
    "    top = top.next;\n",
    "    length--;\n",
    "    return result;\n",
    "  }\n",
    "\n",
    "  public int peek() {\n",
    "    if (isEmpty()) {\n",
    "      throw new EmptyStackException();\n",
    "    }\n",
    "    return top.data;\n",
    "  }\n",
    "\n",
    "  public static void main() {\n",
    "    Stack s = new Stack();\n",
    "    s.push(10);\n",
    "    s.push(15);\n",
    "    s.push(20);\n",
    "\n",
    "    System.out.println(s.peek());\n",
    "    System.out.println(s.pop());\n",
    "    System.out.println(s.peek());\n",
    "  }\n",
    "}\n"
   ]
  },
  {
   "cell_type": "code",
   "execution_count": 5,
   "metadata": {
    "vscode": {
     "languageId": "java"
    }
   },
   "outputs": [
    {
     "name": "stdout",
     "output_type": "stream",
     "text": [
      "20\n",
      "20\n",
      "15\n"
     ]
    }
   ],
   "source": [
    "Stack s = new Stack();\n",
    "s.main();"
   ]
  },
  {
   "cell_type": "code",
   "execution_count": null,
   "metadata": {
    "vscode": {
     "languageId": "java"
    }
   },
   "outputs": [],
   "source": []
  }
 ],
 "metadata": {
  "kernelspec": {
   "display_name": "Java",
   "language": "java",
   "name": "java"
  },
  "language_info": {
   "codemirror_mode": "java",
   "file_extension": ".jshell",
   "mimetype": "text/x-java-source",
   "name": "Java",
   "pygments_lexer": "java",
   "version": "21.0.2+13-LTS-58"
  }
 },
 "nbformat": 4,
 "nbformat_minor": 2
}
