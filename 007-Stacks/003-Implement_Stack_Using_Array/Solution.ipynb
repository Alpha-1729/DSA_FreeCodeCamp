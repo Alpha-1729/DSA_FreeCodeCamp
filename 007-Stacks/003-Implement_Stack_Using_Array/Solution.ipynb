{
 "cells": [
  {
   "cell_type": "code",
   "execution_count": null,
   "metadata": {},
   "outputs": [],
   "source": [
    "// Implement Stack Using Array\n",
    "\n",
    "/*\n",
    ">>>>\n",
    ">>>>\n",
    ">>>>\n",
    ">>>>\n",
    "*/\n"
   ]
  },
  {
   "cell_type": "code",
   "execution_count": 1,
   "metadata": {},
   "outputs": [],
   "source": [
    "public class Stack {\n",
    "\n",
    "  private int top;\n",
    "  private int[] arr;\n",
    "\n",
    "  public Stack(int capacity) {\n",
    "    top = -1;\n",
    "    arr = new int[capacity];\n",
    "  }\n",
    "\n",
    "  public Stack() {\n",
    "    this(10);\n",
    "  }\n",
    "\n",
    "  public void push(int data) {\n",
    "    if (isFull()) {\n",
    "      throw new RuntimeException(\"Stack is full !!!\");\n",
    "    }\n",
    "    top++;\n",
    "    arr[top] = data;\n",
    "  }\n",
    "\n",
    "  public int pop() {\n",
    "    if (isEmpty()) {\n",
    "      throw new RuntimeException(\"Stack is empty !!!\");\n",
    "    }\n",
    "    int result = arr[top];\n",
    "    top--;\n",
    "    return result;\n",
    "  }\n",
    "\n",
    "  public int peek() {\n",
    "    if (isEmpty()) {\n",
    "      throw new RuntimeException(\"Stack is empty !!!\");\n",
    "    }\n",
    "    return arr[top];\n",
    "  }\n",
    "\n",
    "  public boolean isEmpty() {\n",
    "    return top < 0;\n",
    "  }\n",
    "\n",
    "  public boolean isFull() {\n",
    "    return arr.length == size();\n",
    "  }\n",
    "\n",
    "  public int size() {\n",
    "    return top + 1;\n",
    "  }\n",
    "\n",
    "  public void main() {\n",
    "    Stack s = new Stack();\n",
    "    s.push(10);\n",
    "    s.push(20);\n",
    "    s.push(30);\n",
    "    System.out.println(s.peek());\n",
    "    System.out.println(s.pop());\n",
    "    System.out.println(s.peek());\n",
    "  }\n",
    "}\n"
   ]
  },
  {
   "cell_type": "code",
   "execution_count": 2,
   "metadata": {},
   "outputs": [
    {
     "name": "stdout",
     "output_type": "stream",
     "text": [
      "30\n",
      "30\n",
      "20\n"
     ]
    }
   ],
   "source": [
    "Stack s = new Stack();\n",
    "s.main();"
   ]
  },
  {
   "cell_type": "code",
   "execution_count": null,
   "metadata": {},
   "outputs": [],
   "source": []
  }
 ],
 "metadata": {
  "kernelspec": {
   "display_name": "Java",
   "language": "java",
   "name": "java"
  },
  "language_info": {
   "codemirror_mode": "java",
   "file_extension": ".jshell",
   "mimetype": "text/x-java-source",
   "name": "java",
   "pygments_lexer": "java",
   "version": "21.0.2+13-LTS-58"
  }
 },
 "nbformat": 4,
 "nbformat_minor": 2
}
