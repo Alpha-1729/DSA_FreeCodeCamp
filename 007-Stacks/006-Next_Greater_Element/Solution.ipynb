{
 "cells": [
  {
   "cell_type": "code",
   "execution_count": null,
   "metadata": {
    "vscode": {
     "languageId": "java"
    }
   },
   "outputs": [],
   "source": [
    "// Next Greater Element\n",
    "\n",
    "/*\n",
    ">>>>\n",
    ">>>>\n",
    ">>>>\n",
    ">>>>\n",
    "*/\n"
   ]
  },
  {
   "cell_type": "code",
   "execution_count": 7,
   "metadata": {
    "vscode": {
     "languageId": "java"
    }
   },
   "outputs": [],
   "source": [
    "public class Solution {\n",
    "\n",
    "  public int[] nextGreaterElement(int[] arr) {\n",
    "    int[] result = new int[arr.length];\n",
    "    Stack<Integer> stack = new Stack<>();\n",
    "\n",
    "    for (int i = arr.length - 1; i >= 0; i--) {\n",
    "      if (!stack.isEmpty()) {\n",
    "        while (!stack.isEmpty() && stack.peek() <= arr[i]) {\n",
    "          stack.pop();\n",
    "        }\n",
    "      }\n",
    "      if (stack.isEmpty()) {\n",
    "        result[i] = -1;\n",
    "      } else {\n",
    "        result[i] = stack.peek();\n",
    "      }\n",
    "      stack.push(arr[i]);\n",
    "    }\n",
    "    return result;\n",
    "  }\n",
    "}\n"
   ]
  },
  {
   "cell_type": "code",
   "execution_count": 8,
   "metadata": {
    "vscode": {
     "languageId": "java"
    }
   },
   "outputs": [
    {
     "name": "stdout",
     "output_type": "stream",
     "text": [
      "[7, 8, 4, 8, -1, -1]\n"
     ]
    }
   ],
   "source": [
    "Solution s = new Solution();\n",
    "int[] arr = {4, 7, 3, 4, 8, 1};\n",
    "int [] result = s.nextGreaterElement(arr);\n",
    "System.out.println(Arrays.toString(result));"
   ]
  },
  {
   "cell_type": "code",
   "execution_count": null,
   "metadata": {
    "vscode": {
     "languageId": "java"
    }
   },
   "outputs": [],
   "source": []
  }
 ],
 "metadata": {
  "kernelspec": {
   "display_name": "Java",
   "language": "java",
   "name": "java"
  },
  "language_info": {
   "codemirror_mode": "java",
   "file_extension": ".jshell",
   "mimetype": "text/x-java-source",
   "name": "Java",
   "pygments_lexer": "java",
   "version": "21.0.2+13-LTS-58"
  }
 },
 "nbformat": 4,
 "nbformat_minor": 2
}
