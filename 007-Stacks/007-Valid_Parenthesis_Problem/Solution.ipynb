{
 "cells": [
  {
   "cell_type": "code",
   "execution_count": null,
   "metadata": {
    "vscode": {
     "languageId": "java"
    }
   },
   "outputs": [],
   "source": [
    "// Valid Parenthesis Problem\n",
    "\n",
    "/*\n",
    ">>>>\n",
    ">>>>\n",
    ">>>>\n",
    ">>>>\n",
    "*/\n"
   ]
  },
  {
   "cell_type": "code",
   "execution_count": 5,
   "metadata": {
    "vscode": {
     "languageId": "java"
    }
   },
   "outputs": [],
   "source": [
    "public class Solution {\n",
    "\n",
    "  public boolean isValidParenthesis(String s) {\n",
    "    Stack<Character> stack = new Stack<>();\n",
    "    for (char c : s.toCharArray()) {\n",
    "      if (c == '(' || c == '[' || c == '{') {\n",
    "        stack.push(c);\n",
    "      } else {\n",
    "        if (stack.isEmpty()) {\n",
    "          return false;\n",
    "        } else {\n",
    "          char top = stack.peek();\n",
    "          if (\n",
    "            (c == ')') &&\n",
    "            top == '(' ||\n",
    "            (c == ']') &&\n",
    "            top == '[' ||\n",
    "            (c == '}') &&\n",
    "            top == '{'\n",
    "          ) {\n",
    "            stack.pop();\n",
    "          } else return false;\n",
    "        }\n",
    "      }\n",
    "    }\n",
    "\n",
    "    return stack.isEmpty();\n",
    "  }\n",
    "}\n"
   ]
  },
  {
   "cell_type": "code",
   "execution_count": 8,
   "metadata": {
    "vscode": {
     "languageId": "java"
    }
   },
   "outputs": [
    {
     "data": {
      "text/plain": [
       "false"
      ]
     },
     "execution_count": 8,
     "metadata": {},
     "output_type": "execute_result"
    }
   ],
   "source": [
    "Solution s = new Solution();\n",
    "String str = \"{}{}(}\";\n",
    "s.isValidParenthesis(str);"
   ]
  },
  {
   "cell_type": "code",
   "execution_count": null,
   "metadata": {
    "vscode": {
     "languageId": "java"
    }
   },
   "outputs": [],
   "source": []
  },
  {
   "cell_type": "code",
   "execution_count": null,
   "metadata": {
    "vscode": {
     "languageId": "java"
    }
   },
   "outputs": [],
   "source": []
  }
 ],
 "metadata": {
  "kernelspec": {
   "display_name": "Java",
   "language": "java",
   "name": "java"
  },
  "language_info": {
   "codemirror_mode": "java",
   "file_extension": ".jshell",
   "mimetype": "text/x-java-source",
   "name": "Java",
   "pygments_lexer": "java",
   "version": "21.0.2+13-LTS-58"
  }
 },
 "nbformat": 4,
 "nbformat_minor": 2
}
