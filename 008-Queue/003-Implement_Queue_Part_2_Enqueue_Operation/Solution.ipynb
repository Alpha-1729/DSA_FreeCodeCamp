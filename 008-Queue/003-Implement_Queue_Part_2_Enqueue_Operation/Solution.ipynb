{
 "cells": [
  {
   "cell_type": "code",
   "execution_count": null,
   "metadata": {
    "vscode": {
     "languageId": "java"
    }
   },
   "outputs": [],
   "source": [
    "// Implement Queue Part 2 Enqueue Operation\n",
    "\n",
    "/*\n",
    ">>>>\n",
    ">>>>\n",
    ">>>>\n",
    ">>>>\n",
    "*/\n"
   ]
  },
  {
   "cell_type": "code",
   "execution_count": 3,
   "metadata": {
    "vscode": {
     "languageId": "java"
    }
   },
   "outputs": [],
   "source": [
    "public class Queue {\n",
    "\n",
    "  private ListNode front;\n",
    "  private ListNode rear;\n",
    "  private int length;\n",
    "\n",
    "  public Queue() {\n",
    "    this.front = null;\n",
    "    this.rear = null;\n",
    "    this.length = 0;\n",
    "  }\n",
    "\n",
    "  private class ListNode {\n",
    "\n",
    "    private int data;\n",
    "    private ListNode next;\n",
    "\n",
    "    public ListNode(int data) {\n",
    "      this.data = data;\n",
    "      this.next = null;\n",
    "    }\n",
    "  }\n",
    "\n",
    "  public int length() {\n",
    "    return length;\n",
    "  }\n",
    "\n",
    "  public boolean isEmpty() {\n",
    "    return length == 0;\n",
    "  }\n",
    "\n",
    "  public void enqueue(int data) {\n",
    "    ListNode temp = new ListNode(data);\n",
    "    if (isEmpty()) {\n",
    "      front = temp;\n",
    "    } else {\n",
    "      rear.next = temp;\n",
    "    }\n",
    "    rear = temp;\n",
    "    length++;\n",
    "  }\n",
    "\n",
    "  public void print() {\n",
    "    if (isEmpty()) {\n",
    "      return;\n",
    "    }\n",
    "\n",
    "    ListNode current = front;\n",
    "    while (current != null) {\n",
    "      System.out.print(current.data + \" --> \");\n",
    "      current = current.next;\n",
    "    }\n",
    "    System.out.println(\"null\");\n",
    "  }\n",
    "\n",
    "  public void main() {\n",
    "    Queue q = new Queue();\n",
    "    q.enqueue(10);\n",
    "    q.enqueue(20);\n",
    "    q.enqueue(30);\n",
    "\n",
    "    q.print();\n",
    "  }\n",
    "}\n"
   ]
  },
  {
   "cell_type": "code",
   "execution_count": 4,
   "metadata": {
    "vscode": {
     "languageId": "java"
    }
   },
   "outputs": [
    {
     "name": "stdout",
     "output_type": "stream",
     "text": [
      "10 --> 20 --> 30 --> null\n"
     ]
    }
   ],
   "source": [
    "Queue q = new Queue();\n",
    "q.main();\n"
   ]
  },
  {
   "cell_type": "code",
   "execution_count": null,
   "metadata": {
    "vscode": {
     "languageId": "java"
    }
   },
   "outputs": [],
   "source": []
  }
 ],
 "metadata": {
  "kernelspec": {
   "display_name": "Java",
   "language": "java",
   "name": "java"
  },
  "language_info": {
   "codemirror_mode": "java",
   "file_extension": ".jshell",
   "mimetype": "text/x-java-source",
   "name": "Java",
   "pygments_lexer": "java",
   "version": "21.0.2+13-LTS-58"
  }
 },
 "nbformat": 4,
 "nbformat_minor": 2
}
