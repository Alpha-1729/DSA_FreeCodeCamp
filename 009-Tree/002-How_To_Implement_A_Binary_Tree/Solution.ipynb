{
 "cells": [
  {
   "cell_type": "code",
   "execution_count": null,
   "metadata": {},
   "outputs": [],
   "source": [
    "// How To Implement A Binary Tree\n",
    "\n",
    "/*\n",
    ">>>>\n",
    ">>>>\n",
    ">>>>\n",
    ">>>>\n",
    "*/\n"
   ]
  },
  {
   "cell_type": "code",
   "execution_count": null,
   "metadata": {},
   "outputs": [],
   "source": [
    "public class BinaryTree {\n",
    "\n",
    "  private TreeNode root;\n",
    "\n",
    "  private class TreeNode {\n",
    "\n",
    "    private TreeNode left;\n",
    "    private TreeNode right;\n",
    "    private int data; // Generic type\n",
    "\n",
    "    public TreeNode(int data) {\n",
    "      this.data = data;\n",
    "    }\n",
    "  }\n",
    "\n",
    "  public void createBinaryTree() {\n",
    "    TreeNode first = new TreeNode(1);\n",
    "    TreeNode second = new TreeNode(2);\n",
    "    TreeNode third = new TreeNode(3);\n",
    "    TreeNode fourth = new TreeNode(4);\n",
    "    TreeNode fifth = new TreeNode(5);\n",
    "\n",
    "    root = first;\n",
    "    first.left = second;\n",
    "    first.right = third;\n",
    "    second.left = fourth;\n",
    "    second.right = fifth;\n",
    "  }\n",
    "}\n"
   ]
  },
  {
   "cell_type": "code",
   "execution_count": null,
   "metadata": {},
   "outputs": [],
   "source": [
    "BinaryTree bt = new BinaryTree();"
   ]
  }
 ],
 "metadata": {
  "kernelspec": {
   "display_name": "Java",
   "language": "java",
   "name": "java"
  },
  "language_info": {
   "codemirror_mode": "java",
   "file_extension": ".jshell",
   "mimetype": "text/x-java-source",
   "name": "java",
   "pygments_lexer": "java",
   "version": "21.0.2+13-LTS-58"
  }
 },
 "nbformat": 4,
 "nbformat_minor": 2
}
