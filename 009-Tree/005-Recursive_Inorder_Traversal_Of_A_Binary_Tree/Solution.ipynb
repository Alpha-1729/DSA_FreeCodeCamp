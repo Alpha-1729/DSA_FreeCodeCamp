{
 "cells": [
  {
   "cell_type": "code",
   "execution_count": null,
   "metadata": {
    "vscode": {
     "languageId": "java"
    }
   },
   "outputs": [],
   "source": [
    "// Recursive Inorder Traversal Of A Binary Tree\n",
    "\n",
    "/*\n",
    ">>>>\n",
    ">>>>\n",
    ">>>>\n",
    ">>>>\n",
    "*/\n"
   ]
  },
  {
   "cell_type": "code",
   "execution_count": 5,
   "metadata": {
    "vscode": {
     "languageId": "java"
    }
   },
   "outputs": [],
   "source": [
    "public class BinaryTree {\n",
    "\n",
    "  private TreeNode root;\n",
    "\n",
    "  private class TreeNode {\n",
    "\n",
    "    private TreeNode left;\n",
    "    private TreeNode right;\n",
    "    private int data; // Generic type\n",
    "\n",
    "    public TreeNode(int data) {\n",
    "      this.data = data;\n",
    "    }\n",
    "  }\n",
    "\n",
    "  public void createBinaryTree() {\n",
    "    TreeNode first = new TreeNode(1);\n",
    "    TreeNode second = new TreeNode(2);\n",
    "    TreeNode third = new TreeNode(3);\n",
    "    TreeNode fourth = new TreeNode(4);\n",
    "\n",
    "    root = first;\n",
    "    first.left = second;\n",
    "    first.right = third;\n",
    "    second.left = fourth;\n",
    "  }\n",
    "\n",
    "  public void recursivePreOrder(TreeNode root) {\n",
    "    if (root == null) {\n",
    "      return;\n",
    "    }\n",
    "    System.out.print(root.data + \" \");\n",
    "    recursivePreOrder(root.left);\n",
    "    recursivePreOrder(root.right);\n",
    "  }\n",
    "\n",
    "  public void iterativePreOrder(TreeNode root) {\n",
    "    if (root == null) {\n",
    "      return;\n",
    "    }\n",
    "    Stack<TreeNode> stack = new Stack<>();\n",
    "    stack.push(root);\n",
    "    while (!stack.isEmpty()) {\n",
    "      TreeNode temp = stack.pop();\n",
    "\n",
    "      System.out.print(temp.data + \" \");\n",
    "\n",
    "      if (temp.right != null) {\n",
    "        stack.push(temp.right);\n",
    "      }\n",
    "      if (temp.left != null) {\n",
    "        stack.push(temp.left);\n",
    "      }\n",
    "    }\n",
    "  }\n",
    "\n",
    "  public void recursiveInOrder(TreeNode root) {\n",
    "    if (root == null) {\n",
    "      return;\n",
    "    }\n",
    "    recursiveInOrder(root.left);\n",
    "    System.out.print(root.data + \" \");\n",
    "    recursiveInOrder(root.right);\n",
    "  }\n",
    "\n",
    "  public void main() {\n",
    "    BinaryTree bt = new BinaryTree();\n",
    "    bt.createBinaryTree();\n",
    "    bt.recursiveInOrder(bt.root);\n",
    "  }\n",
    "}\n"
   ]
  },
  {
   "cell_type": "code",
   "execution_count": 6,
   "metadata": {
    "vscode": {
     "languageId": "java"
    }
   },
   "outputs": [
    {
     "name": "stdout",
     "output_type": "stream",
     "text": [
      "4 2 1 3 "
     ]
    }
   ],
   "source": [
    "BinaryTree bt = new BinaryTree();\n",
    "bt.main();"
   ]
  },
  {
   "cell_type": "code",
   "execution_count": null,
   "metadata": {
    "vscode": {
     "languageId": "java"
    }
   },
   "outputs": [],
   "source": []
  },
  {
   "cell_type": "code",
   "execution_count": null,
   "metadata": {
    "vscode": {
     "languageId": "java"
    }
   },
   "outputs": [],
   "source": []
  }
 ],
 "metadata": {
  "kernelspec": {
   "display_name": "Java",
   "language": "java",
   "name": "java"
  },
  "language_info": {
   "codemirror_mode": "java",
   "file_extension": ".jshell",
   "mimetype": "text/x-java-source",
   "name": "Java",
   "pygments_lexer": "java",
   "version": "21.0.2+13-LTS-58"
  }
 },
 "nbformat": 4,
 "nbformat_minor": 2
}
