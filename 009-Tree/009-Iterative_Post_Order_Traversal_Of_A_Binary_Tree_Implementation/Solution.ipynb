{
 "cells": [
  {
   "cell_type": "code",
   "execution_count": null,
   "metadata": {
    "vscode": {
     "languageId": "java"
    }
   },
   "outputs": [],
   "source": [
    "// Iterative Post Order Traversal Of A Binary Tree Implementation\n",
    "\n",
    "/*\n",
    ">>>>\n",
    ">>>>\n",
    ">>>>\n",
    ">>>>\n",
    "*/\n"
   ]
  },
  {
   "cell_type": "code",
   "execution_count": 14,
   "metadata": {
    "vscode": {
     "languageId": "java"
    }
   },
   "outputs": [],
   "source": [
    "public class BinaryTree {\n",
    "\n",
    "  private TreeNode root;\n",
    "\n",
    "  private class TreeNode {\n",
    "\n",
    "    private TreeNode left;\n",
    "    private TreeNode right;\n",
    "    private int data; // Generic type\n",
    "\n",
    "    public TreeNode(int data) {\n",
    "      this.data = data;\n",
    "    }\n",
    "  }\n",
    "\n",
    "  public void createBinaryTree() {\n",
    "    TreeNode first = new TreeNode(1);\n",
    "    TreeNode second = new TreeNode(2);\n",
    "    TreeNode third = new TreeNode(3);\n",
    "    TreeNode fourth = new TreeNode(4);\n",
    "\n",
    "    root = first;\n",
    "    first.left = second;\n",
    "    first.right = third;\n",
    "    second.left = fourth;\n",
    "  }\n",
    "\n",
    "  public void recursivePreOrder(TreeNode root) {\n",
    "    if (root == null) {\n",
    "      return;\n",
    "    }\n",
    "    System.out.print(root.data + \" \");\n",
    "    recursivePreOrder(root.left);\n",
    "    recursivePreOrder(root.right);\n",
    "  }\n",
    "\n",
    "  public void iterativePreOrder(TreeNode root) {\n",
    "    if (root == null) {\n",
    "      return;\n",
    "    }\n",
    "    Stack<TreeNode> stack = new Stack<>();\n",
    "    stack.push(root);\n",
    "    while (!stack.isEmpty()) {\n",
    "      TreeNode temp = stack.pop();\n",
    "\n",
    "      System.out.print(temp.data + \" \");\n",
    "\n",
    "      if (temp.right != null) {\n",
    "        stack.push(temp.right);\n",
    "      }\n",
    "      if (temp.left != null) {\n",
    "        stack.push(temp.left);\n",
    "      }\n",
    "    }\n",
    "  }\n",
    "\n",
    "  public void recursiveInOrder(TreeNode root) {\n",
    "    if (root == null) {\n",
    "      return;\n",
    "    }\n",
    "    recursiveInOrder(root.left);\n",
    "    System.out.print(root.data + \" \");\n",
    "    recursiveInOrder(root.right);\n",
    "  }\n",
    "\n",
    "  public void iterativeInOrder(TreeNode root) {\n",
    "    if (root == null) {\n",
    "      return;\n",
    "    }\n",
    "    Stack<TreeNode> stack = new Stack<>();\n",
    "    TreeNode temp = root;\n",
    "    while (!stack.isEmpty() || temp != null) {\n",
    "      if (temp != null) {\n",
    "        stack.push(temp);\n",
    "        temp = temp.left;\n",
    "      } else {\n",
    "        temp = stack.pop();\n",
    "        System.out.print(temp.data + \" \");\n",
    "        temp = temp.right;\n",
    "      }\n",
    "    }\n",
    "  }\n",
    "\n",
    "  public void recursivePostOrder(TreeNode root) {\n",
    "    if (root == null) {\n",
    "      return;\n",
    "    }\n",
    "\n",
    "    recursivePostOrder(root.left);\n",
    "    recursivePostOrder(root.right);\n",
    "    System.out.print(root.data + \" \");\n",
    "  }\n",
    "\n",
    "  public void iterativePostOrder(TreeNode root) {\n",
    "    TreeNode current = root;\n",
    "    Stack<TreeNode> stack = new Stack<>();\n",
    "    while (current != null || !stack.isEmpty()) {\n",
    "      if (current != null) {\n",
    "        stack.push(current);\n",
    "        current = current.left;\n",
    "      } else {\n",
    "        TreeNode temp = stack.peek().right;\n",
    "        if (temp == null) {\n",
    "          temp = stack.pop();\n",
    "          System.out.print(temp.data + \" \");\n",
    "          while (!stack.isEmpty() && temp == stack.peek().right) {\n",
    "            temp = stack.pop();\n",
    "            System.out.print(temp.data + \" \");\n",
    "          }\n",
    "        } else {\n",
    "          current = temp;\n",
    "        }\n",
    "      }\n",
    "    }\n",
    "  }\n",
    "\n",
    "  public void main() {\n",
    "    BinaryTree bt = new BinaryTree();\n",
    "    bt.createBinaryTree();\n",
    "    bt.iterativePostOrder(bt.root);\n",
    "  }\n",
    "}\n"
   ]
  },
  {
   "cell_type": "code",
   "execution_count": 15,
   "metadata": {
    "vscode": {
     "languageId": "java"
    }
   },
   "outputs": [
    {
     "name": "stdout",
     "output_type": "stream",
     "text": [
      "4 2 3 1 "
     ]
    }
   ],
   "source": [
    "BinaryTree bt = new BinaryTree();\n",
    "bt.main();"
   ]
  },
  {
   "cell_type": "code",
   "execution_count": null,
   "metadata": {
    "vscode": {
     "languageId": "java"
    }
   },
   "outputs": [],
   "source": []
  }
 ],
 "metadata": {
  "kernelspec": {
   "display_name": "Java",
   "language": "java",
   "name": "java"
  },
  "language_info": {
   "codemirror_mode": "java",
   "file_extension": ".jshell",
   "mimetype": "text/x-java-source",
   "name": "Java",
   "pygments_lexer": "java",
   "version": "21.0.2+13-LTS-58"
  }
 },
 "nbformat": 4,
 "nbformat_minor": 2
}
