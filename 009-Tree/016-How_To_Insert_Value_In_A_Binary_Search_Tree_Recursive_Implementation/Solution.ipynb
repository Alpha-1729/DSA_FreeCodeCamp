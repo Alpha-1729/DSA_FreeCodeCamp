{
 "cells": [
  {
   "cell_type": "code",
   "execution_count": null,
   "metadata": {
    "vscode": {
     "languageId": "java"
    }
   },
   "outputs": [],
   "source": [
    "// How To Insert Value In A Binary Search Tree Recursive Implementation\n",
    "\n",
    "/*\n",
    ">>>> InOrder traversal of a binary search tree will give the result in the sorted order.\n",
    ">>>>\n",
    ">>>>\n",
    ">>>>\n",
    "*/\n"
   ]
  },
  {
   "cell_type": "code",
   "execution_count": 1,
   "metadata": {
    "vscode": {
     "languageId": "java"
    }
   },
   "outputs": [],
   "source": [
    "public class BinarySearchTree {\n",
    "\n",
    "  private TreeNode root;\n",
    "\n",
    "  private class TreeNode {\n",
    "\n",
    "    private int data; // Generic type.\n",
    "    private TreeNode left;\n",
    "    private TreeNode right;\n",
    "\n",
    "    public TreeNode(int data) {\n",
    "      this.data = data;\n",
    "    }\n",
    "  }\n",
    "\n",
    "  public void insert(int value) {\n",
    "    root = insert(root, value);\n",
    "  }\n",
    "\n",
    "  public TreeNode insert(TreeNode root, int value) {\n",
    "    if (root == null) {\n",
    "      root = new TreeNode(value);\n",
    "      return root;\n",
    "    }\n",
    "\n",
    "    if (value < root.data) {\n",
    "      root.left = insert(root.left, value);\n",
    "    } else {\n",
    "      root.right = insert(root.right, value);\n",
    "    }\n",
    "    return root;\n",
    "  }\n",
    "\n",
    "  public void inOrder() {\n",
    "    inOrder(root);\n",
    "  }\n",
    "\n",
    "  public void inOrder(TreeNode root) {\n",
    "    if (root == null) {\n",
    "      return;\n",
    "    }\n",
    "    inOrder(root.left);\n",
    "    System.out.print(root.data + \" \");\n",
    "    inOrder(root.right);\n",
    "  }\n",
    "\n",
    "  public void main() {\n",
    "    BinarySearchTree bst = new BinarySearchTree();\n",
    "    bst.insert(5);\n",
    "    bst.insert(3);\n",
    "    bst.insert(7);\n",
    "    bst.insert(1);\n",
    "\n",
    "    bst.inOrder();\n",
    "  }\n",
    "}\n"
   ]
  },
  {
   "cell_type": "code",
   "execution_count": 3,
   "metadata": {
    "vscode": {
     "languageId": "java"
    }
   },
   "outputs": [
    {
     "name": "stdout",
     "output_type": "stream",
     "text": [
      "1 3 5 7 "
     ]
    }
   ],
   "source": [
    "BinarySearchTree bst = new BinarySearchTree();\n",
    "bst.main();"
   ]
  },
  {
   "cell_type": "code",
   "execution_count": null,
   "metadata": {
    "vscode": {
     "languageId": "java"
    }
   },
   "outputs": [],
   "source": []
  }
 ],
 "metadata": {
  "kernelspec": {
   "display_name": "Java",
   "language": "java",
   "name": "java"
  },
  "language_info": {
   "codemirror_mode": "java",
   "file_extension": ".jshell",
   "mimetype": "text/x-java-source",
   "name": "Java",
   "pygments_lexer": "java",
   "version": "21.0.2+13-LTS-58"
  }
 },
 "nbformat": 4,
 "nbformat_minor": 2
}
