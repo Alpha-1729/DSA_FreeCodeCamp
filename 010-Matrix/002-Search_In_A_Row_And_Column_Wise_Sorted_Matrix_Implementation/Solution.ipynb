{
 "cells": [
  {
   "cell_type": "code",
   "execution_count": null,
   "metadata": {
    "vscode": {
     "languageId": "java"
    }
   },
   "outputs": [],
   "source": [
    "// Search In A Row And Column Wise Sorted Matrix Implementation\n",
    "\n",
    "/*\n",
    ">>>>\n",
    ">>>>\n",
    ">>>>\n",
    ">>>>\n",
    "*/\n"
   ]
  },
  {
   "cell_type": "code",
   "execution_count": 3,
   "metadata": {
    "vscode": {
     "languageId": "java"
    }
   },
   "outputs": [],
   "source": [
    "public class Solution {\n",
    "\n",
    "  public void search(int[][] matrix, int n, int x) {\n",
    "    int i = 0;\n",
    "    int j = n - 1;\n",
    "    while (i < n && j >= 0) {\n",
    "      if (matrix[i][j] == x) {\n",
    "        System.out.println(\"x found at - \" + i + \", \" + j);\n",
    "        return;\n",
    "      }\n",
    "\n",
    "      if (matrix[i][j] > x) {\n",
    "        j--;\n",
    "      } else {\n",
    "        i++;\n",
    "      }\n",
    "    }\n",
    "    System.out.println(\"Not found\");\n",
    "  }\n",
    "}\n"
   ]
  },
  {
   "cell_type": "code",
   "execution_count": 5,
   "metadata": {
    "vscode": {
     "languageId": "java"
    }
   },
   "outputs": [
    {
     "name": "stdout",
     "output_type": "stream",
     "text": [
      "Not found\n"
     ]
    }
   ],
   "source": [
    "Solution s = new Solution();\n",
    "int[][] matrix = {\n",
    "                    {10, 20, 30, 40},\n",
    "                    {15, 25, 35, 45},\n",
    "                    {27, 29, 37, 48},\n",
    "                    {32, 33, 39, 51},\n",
    "                };\n",
    "s.search(matrix, matrix.length, 32);"
   ]
  },
  {
   "cell_type": "code",
   "execution_count": null,
   "metadata": {
    "vscode": {
     "languageId": "java"
    }
   },
   "outputs": [],
   "source": []
  }
 ],
 "metadata": {
  "kernelspec": {
   "display_name": "Java",
   "language": "java",
   "name": "java"
  },
  "language_info": {
   "codemirror_mode": "java",
   "file_extension": ".jshell",
   "mimetype": "text/x-java-source",
   "name": "Java",
   "pygments_lexer": "java",
   "version": "21.0.2+13-LTS-58"
  }
 },
 "nbformat": 4,
 "nbformat_minor": 2
}
