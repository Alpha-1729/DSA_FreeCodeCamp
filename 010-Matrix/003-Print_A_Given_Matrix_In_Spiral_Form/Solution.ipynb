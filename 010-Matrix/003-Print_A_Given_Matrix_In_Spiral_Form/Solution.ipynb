{
 "cells": [
  {
   "cell_type": "code",
   "execution_count": null,
   "metadata": {
    "vscode": {
     "languageId": "java"
    }
   },
   "outputs": [],
   "source": [
    "// Print A Given Matrix In Spiral Form\n",
    "\n",
    "/*\n",
    ">>>>\n",
    ">>>>\n",
    ">>>>\n",
    ">>>>\n",
    "*/\n"
   ]
  },
  {
   "cell_type": "code",
   "execution_count": 1,
   "metadata": {
    "vscode": {
     "languageId": "java"
    }
   },
   "outputs": [],
   "source": [
    "public class Solution {\n",
    "\n",
    "  public void spiralPrint(int[][] matrix, int r, int c) {\n",
    "    int i, k = 0, l = 0;\n",
    "    while (k < r && l < c) {\n",
    "      for (i = l; i < c; i++) {\n",
    "        System.out.print(matrix[k][i] + \" \");\n",
    "      }\n",
    "      k++;\n",
    "      for (i = k; i < r; i++) {\n",
    "        System.out.print(matrix[i][c - 1] + \" \");\n",
    "      }\n",
    "      c--;\n",
    "      if (k < r) {\n",
    "        for (i = c - 1; i >= l; i--) {\n",
    "          System.out.print(matrix[r - 1][i] + \" \");\n",
    "        }\n",
    "        r--;\n",
    "      }\n",
    "      if (l < c) {\n",
    "        for (i = r - 1; i >= k; i--) {\n",
    "          System.out.print(matrix[i][l] + \" \");\n",
    "        }\n",
    "        l++;\n",
    "      }\n",
    "    }\n",
    "  }\n",
    "}\n"
   ]
  },
  {
   "cell_type": "code",
   "execution_count": 2,
   "metadata": {
    "vscode": {
     "languageId": "java"
    }
   },
   "outputs": [
    {
     "name": "stdout",
     "output_type": "stream",
     "text": [
      "10 20 30 40 45 48 51 39 33 32 27 15 25 35 37 29 "
     ]
    }
   ],
   "source": [
    "Solution s = new Solution();\n",
    "int[][] matrix = {\n",
    "    {10, 20, 30, 40},\n",
    "    {15, 25, 35, 45},\n",
    "    {27, 29, 37, 48},\n",
    "    {32, 33, 39, 51},\n",
    "};\n",
    "s.spiralPrint(matrix, 4, 4);"
   ]
  },
  {
   "cell_type": "code",
   "execution_count": null,
   "metadata": {
    "vscode": {
     "languageId": "java"
    }
   },
   "outputs": [],
   "source": []
  }
 ],
 "metadata": {
  "kernelspec": {
   "display_name": "Java",
   "language": "java",
   "name": "java"
  },
  "language_info": {
   "codemirror_mode": "java",
   "file_extension": ".jshell",
   "mimetype": "text/x-java-source",
   "name": "Java",
   "pygments_lexer": "java",
   "version": "21.0.2+13-LTS-58"
  }
 },
 "nbformat": 4,
 "nbformat_minor": 2
}
