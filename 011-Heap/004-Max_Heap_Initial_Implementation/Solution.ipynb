{
 "cells": [
  {
   "cell_type": "code",
   "execution_count": null,
   "metadata": {
    "vscode": {
     "languageId": "java"
    }
   },
   "outputs": [],
   "source": [
    "// Max Heap Initial Implementation\n",
    "\n",
    "/*\n",
    ">>>>\n",
    ">>>>\n",
    ">>>>\n",
    ">>>>\n",
    "*/\n"
   ]
  },
  {
   "cell_type": "code",
   "execution_count": 13,
   "metadata": {
    "vscode": {
     "languageId": "java"
    }
   },
   "outputs": [],
   "source": [
    "public class MaxPQ {\n",
    "\n",
    "  private Integer[] heap;\n",
    "  private int n;\n",
    "\n",
    "  public MaxPQ(int capacity) {\n",
    "    heap = new Integer[capacity + 1];\n",
    "    n = 0;\n",
    "  }\n",
    "\n",
    "  public boolean isEmpty() {\n",
    "    return n == 0;\n",
    "  }\n",
    "\n",
    "  public int size() {\n",
    "    return n;\n",
    "  }\n",
    "\n",
    "  public static void main() {\n",
    "    MaxPQ mpq = new MaxPQ(3);\n",
    "    System.out.println(mpq.size());\n",
    "    System.out.println(mpq.isEmpty());\n",
    "  }\n",
    "}\n"
   ]
  },
  {
   "cell_type": "code",
   "execution_count": 15,
   "metadata": {
    "vscode": {
     "languageId": "java"
    }
   },
   "outputs": [
    {
     "name": "stdout",
     "output_type": "stream",
     "text": [
      "0\n",
      "true\n"
     ]
    }
   ],
   "source": [
    "MaxPQ mpq = new MaxPQ(0);\n",
    "mpq.main()"
   ]
  },
  {
   "cell_type": "code",
   "execution_count": null,
   "metadata": {
    "vscode": {
     "languageId": "java"
    }
   },
   "outputs": [],
   "source": []
  },
  {
   "cell_type": "code",
   "execution_count": null,
   "metadata": {
    "vscode": {
     "languageId": "java"
    }
   },
   "outputs": [],
   "source": []
  }
 ],
 "metadata": {
  "kernelspec": {
   "display_name": "Java",
   "language": "java",
   "name": "java"
  },
  "language_info": {
   "codemirror_mode": "java",
   "file_extension": ".jshell",
   "mimetype": "text/x-java-source",
   "name": "Java",
   "pygments_lexer": "java",
   "version": "21.0.2+13-LTS-58"
  }
 },
 "nbformat": 4,
 "nbformat_minor": 2
}
