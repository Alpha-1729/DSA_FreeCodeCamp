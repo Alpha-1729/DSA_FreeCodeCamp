{
 "cells": [
  {
   "cell_type": "code",
   "execution_count": null,
   "metadata": {
    "vscode": {
     "languageId": "java"
    }
   },
   "outputs": [],
   "source": [
    "// How To Insert In A Maxheap Implementation\n",
    "\n",
    "/*\n",
    ">>>>\n",
    ">>>>\n",
    ">>>>\n",
    ">>>>\n",
    "*/\n"
   ]
  },
  {
   "cell_type": "code",
   "execution_count": 11,
   "metadata": {
    "vscode": {
     "languageId": "java"
    }
   },
   "outputs": [],
   "source": [
    "public class MaxPQ {\n",
    "\n",
    "  private Integer[] heap;\n",
    "  private int n;\n",
    "\n",
    "  public MaxPQ(int capacity) {\n",
    "    heap = new Integer[capacity + 1];\n",
    "    n = 0;\n",
    "  }\n",
    "\n",
    "  public boolean isEmpty() {\n",
    "    return n == 0;\n",
    "  }\n",
    "\n",
    "  public int size() {\n",
    "    return n;\n",
    "  }\n",
    "\n",
    "  public void insert(int x) {\n",
    "    if (n == heap.length - 1) {\n",
    "      resize(2 * heap.length);\n",
    "    }\n",
    "    n++;\n",
    "    heap[n] = x;\n",
    "    swim(n);\n",
    "  }\n",
    "\n",
    "  private void swim(int k) {\n",
    "    while (k > 1 && heap[k / 2] < heap[k]) {\n",
    "      int temp = heap[k];\n",
    "      heap[k] = heap[k / 2];\n",
    "      heap[k / 2] = temp;\n",
    "      k = k / 2; // Because we need to continue shifting up till new value inserted is at correct position.\n",
    "    }\n",
    "  }\n",
    "\n",
    "  public void resize(int capacity) {\n",
    "    Integer[] temp = new Integer[capacity];\n",
    "    for (int i = 0; i < heap.length; i++) {\n",
    "      temp[i] = heap[i];\n",
    "    }\n",
    "    heap = temp;\n",
    "  }\n",
    "\n",
    "  public void printMaxHeap() {\n",
    "    for (int i = 1; i <= n; i++) {\n",
    "      System.out.print(heap[i] + \" \");\n",
    "    }\n",
    "  }\n",
    "\n",
    "  public static void main() {\n",
    "    MaxPQ mpq = new MaxPQ(3);\n",
    "    mpq.insert(4);\n",
    "    mpq.insert(5);\n",
    "    mpq.insert(2);\n",
    "    mpq.insert(6);\n",
    "    mpq.insert(1);\n",
    "    mpq.insert(3);\n",
    "\n",
    "    System.out.println(mpq.size());\n",
    "    mpq.printMaxHeap();\n",
    "  }\n",
    "}\n"
   ]
  },
  {
   "cell_type": "code",
   "execution_count": 12,
   "metadata": {
    "vscode": {
     "languageId": "java"
    }
   },
   "outputs": [
    {
     "name": "stdout",
     "output_type": "stream",
     "text": [
      "6\n",
      "6 5 3 4 1 2 "
     ]
    }
   ],
   "source": [
    "MaxPQ mpq = new MaxPQ(0);\n",
    "mpq.main();"
   ]
  },
  {
   "cell_type": "code",
   "execution_count": null,
   "metadata": {
    "vscode": {
     "languageId": "java"
    }
   },
   "outputs": [],
   "source": []
  }
 ],
 "metadata": {
  "kernelspec": {
   "display_name": "Java",
   "language": "java",
   "name": "java"
  },
  "language_info": {
   "codemirror_mode": "java",
   "file_extension": ".jshell",
   "mimetype": "text/x-java-source",
   "name": "Java",
   "pygments_lexer": "java",
   "version": "21.0.2+13-LTS-58"
  }
 },
 "nbformat": 4,
 "nbformat_minor": 2
}
