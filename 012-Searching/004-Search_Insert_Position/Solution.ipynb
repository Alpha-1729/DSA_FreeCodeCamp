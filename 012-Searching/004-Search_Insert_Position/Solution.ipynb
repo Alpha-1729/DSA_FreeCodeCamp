{
 "cells": [
  {
   "cell_type": "code",
   "execution_count": null,
   "metadata": {
    "vscode": {
     "languageId": "java"
    }
   },
   "outputs": [],
   "source": [
    "// Search Insert Position\n",
    "\n",
    "/*\n",
    ">>>> Here low is returned instead of high, see the below examples.\n",
    "        For arr = [4], target = 3; low = 0 and high = -1(Invalid to return);\n",
    "        For arr = [4], target = 5; low = 1 and high = 0;\n",
    ">>>>\n",
    ">>>>\n",
    ">>>>\n",
    "*/\n"
   ]
  },
  {
   "cell_type": "code",
   "execution_count": 1,
   "metadata": {
    "vscode": {
     "languageId": "java"
    }
   },
   "outputs": [],
   "source": [
    "public class Solution {\n",
    "\n",
    "  public int searchInsert(int[] arr, int target) {\n",
    "    int low = 0;\n",
    "    int high = arr.length - 1;\n",
    "    while (low <= high) {\n",
    "      int mid = low + (high - low) / 2; // This condition is to avoid the integer overflow. If low and high are max int, then their sum is large integer.\n",
    "      if (arr[mid] == target) return mid;\n",
    "      if (target < arr[mid]) {\n",
    "        high = mid - 1;\n",
    "      } else {\n",
    "        low = mid + 1;\n",
    "      }\n",
    "    }\n",
    "    return low;\n",
    "  }\n",
    "}\n"
   ]
  },
  {
   "cell_type": "code",
   "execution_count": 3,
   "metadata": {
    "vscode": {
     "languageId": "java"
    }
   },
   "outputs": [
    {
     "data": {
      "text/plain": [
       "3"
      ]
     },
     "execution_count": 3,
     "metadata": {},
     "output_type": "execute_result"
    }
   ],
   "source": [
    "Solution s = new Solution();\n",
    "int [] arr = {1, 2, 4, 10, 15, 20};\n",
    "s.searchInsert(arr, 5);"
   ]
  },
  {
   "cell_type": "code",
   "execution_count": null,
   "metadata": {
    "vscode": {
     "languageId": "java"
    }
   },
   "outputs": [],
   "source": []
  }
 ],
 "metadata": {
  "kernelspec": {
   "display_name": "Java",
   "language": "java",
   "name": "java"
  },
  "language_info": {
   "codemirror_mode": "java",
   "file_extension": ".jshell",
   "mimetype": "text/x-java-source",
   "name": "Java",
   "pygments_lexer": "java",
   "version": "21.0.2+13-LTS-58"
  }
 },
 "nbformat": 4,
 "nbformat_minor": 2
}
