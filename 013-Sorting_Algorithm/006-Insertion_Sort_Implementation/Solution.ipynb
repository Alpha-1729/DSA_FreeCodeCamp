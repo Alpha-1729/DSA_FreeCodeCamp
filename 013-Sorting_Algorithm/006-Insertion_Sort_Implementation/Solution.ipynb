{
 "cells": [
  {
   "cell_type": "code",
   "execution_count": null,
   "metadata": {},
   "outputs": [],
   "source": [
    "// Insertion Sort Implementation\n",
    "\n",
    "/*\n",
    ">>>>\n",
    ">>>>\n",
    ">>>>\n",
    ">>>>\n",
    "*/\n"
   ]
  },
  {
   "cell_type": "code",
   "execution_count": 1,
   "metadata": {},
   "outputs": [],
   "source": [
    "public class Solution {\n",
    "\n",
    "  public void insertionSort(int[] arr) {\n",
    "    int n = arr.length;\n",
    "    for (int i = 1; i < n; i++) { // unsorted part\n",
    "      int temp = arr[i];\n",
    "      int j = i - 1; // sorted part\n",
    "      while (j >= 0 && arr[j] > temp) {\n",
    "        arr[j + 1] = arr[j]; // shifting the larger elements\n",
    "        j = j - 1;\n",
    "      }\n",
    "      arr[j + 1] = temp;\n",
    "    }\n",
    "  }\n",
    "}\n"
   ]
  },
  {
   "cell_type": "code",
   "execution_count": 2,
   "metadata": {},
   "outputs": [
    {
     "name": "stdout",
     "output_type": "stream",
     "text": [
      "[1, 2, 3, 4, 5, 5, 7]"
     ]
    }
   ],
   "source": [
    "Solution s = new Solution();\n",
    "int [] arr = {1, 5, 2, 7, 5, 4, 3};\n",
    "s.insertionSort(arr);\n",
    "System.out.print(Arrays.toString(arr));"
   ]
  },
  {
   "cell_type": "code",
   "execution_count": null,
   "metadata": {},
   "outputs": [],
   "source": []
  }
 ],
 "metadata": {
  "kernelspec": {
   "display_name": "Java",
   "language": "java",
   "name": "java"
  },
  "language_info": {
   "codemirror_mode": "java",
   "file_extension": ".jshell",
   "mimetype": "text/x-java-source",
   "name": "java",
   "pygments_lexer": "java",
   "version": "21.0.2+13-LTS-58"
  }
 },
 "nbformat": 4,
 "nbformat_minor": 2
}
