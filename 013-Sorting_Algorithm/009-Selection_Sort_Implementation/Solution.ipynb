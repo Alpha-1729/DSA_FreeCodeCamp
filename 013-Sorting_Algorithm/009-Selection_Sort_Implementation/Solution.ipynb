{
 "cells": [
  {
   "cell_type": "code",
   "execution_count": null,
   "metadata": {},
   "outputs": [],
   "source": [
    "// Selection Sort Implementation\n",
    "\n",
    "/*\n",
    ">>>>\n",
    ">>>>\n",
    ">>>>\n",
    ">>>>\n",
    "*/\n"
   ]
  },
  {
   "cell_type": "code",
   "execution_count": 3,
   "metadata": {},
   "outputs": [],
   "source": [
    "public class Solution {\n",
    "\n",
    "  public void selectionSort(int[] arr) {\n",
    "    int n = arr.length;\n",
    "    for (int i = 0; i < n - 1; i++) {\n",
    "      int min = i;\n",
    "      for (int j = i + 1; j < n; j++) {\n",
    "        if (arr[j] < arr[min]) {\n",
    "          min = j;\n",
    "        }\n",
    "      }\n",
    "\n",
    "      int temp = arr[min];\n",
    "      arr[min] = arr[i];\n",
    "      arr[i] = temp;\n",
    "    }\n",
    "  }\n",
    "}\n"
   ]
  },
  {
   "cell_type": "code",
   "execution_count": 4,
   "metadata": {},
   "outputs": [
    {
     "name": "stdout",
     "output_type": "stream",
     "text": [
      "[1, 2, 3, 4, 5, 5, 7]"
     ]
    }
   ],
   "source": [
    "Solution s = new Solution();\n",
    "int [] arr = {1, 5, 2, 7, 5, 4, 3};\n",
    "s.selectionSort(arr);\n",
    "System.out.print(Arrays.toString(arr));"
   ]
  },
  {
   "cell_type": "code",
   "execution_count": null,
   "metadata": {},
   "outputs": [],
   "source": []
  }
 ],
 "metadata": {
  "kernelspec": {
   "display_name": "Java",
   "language": "java",
   "name": "java"
  },
  "language_info": {
   "codemirror_mode": "java",
   "file_extension": ".jshell",
   "mimetype": "text/x-java-source",
   "name": "java",
   "pygments_lexer": "java",
   "version": "21.0.2+13-LTS-58"
  }
 },
 "nbformat": 4,
 "nbformat_minor": 2
}
