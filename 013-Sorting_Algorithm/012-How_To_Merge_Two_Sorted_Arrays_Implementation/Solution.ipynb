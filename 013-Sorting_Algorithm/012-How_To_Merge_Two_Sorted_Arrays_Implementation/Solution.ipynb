{
 "cells": [
  {
   "cell_type": "code",
   "execution_count": null,
   "metadata": {
    "vscode": {
     "languageId": "java"
    }
   },
   "outputs": [],
   "source": [
    "// How To Merge Two Sorted Arrays Implementation\n",
    "\n",
    "/*\n",
    ">>>>\n",
    ">>>>\n",
    ">>>>\n",
    ">>>>\n",
    "*/\n"
   ]
  },
  {
   "cell_type": "code",
   "execution_count": 4,
   "metadata": {
    "vscode": {
     "languageId": "java"
    }
   },
   "outputs": [],
   "source": [
    "public class Solution {\n",
    "\n",
    "  public int[] twoSortedArrays(int[] arr1, int[] arr2, int n, int m) {\n",
    "    int[] result = new int[n + m];\n",
    "    int i = 0, j = 0, k = 0;\n",
    "\n",
    "    while (i < n && j < m) {\n",
    "      if (arr1[i] < arr2[j]) {\n",
    "        result[k] = arr1[i];\n",
    "        i++;\n",
    "      } else {\n",
    "        result[k] = arr2[j];\n",
    "        j++;\n",
    "      }\n",
    "      k++;\n",
    "    }\n",
    "\n",
    "    while (i < n) {\n",
    "      result[k] = arr1[i];\n",
    "      i++;\n",
    "      k++;\n",
    "    }\n",
    "\n",
    "    while (j < m) {\n",
    "      result[k] = arr2[j];\n",
    "      j++;\n",
    "      k++;\n",
    "    }\n",
    "    return result;\n",
    "  }\n",
    "}\n"
   ]
  },
  {
   "cell_type": "code",
   "execution_count": 6,
   "metadata": {
    "vscode": {
     "languageId": "java"
    }
   },
   "outputs": [
    {
     "name": "stdout",
     "output_type": "stream",
     "text": [
      "[1, 2, 3, 4, 5, 6]"
     ]
    }
   ],
   "source": [
    "Solution s = new Solution();\n",
    "int [] arr1 = {1, 3, 5};\n",
    "int [] arr2 = {2, 4, 6};\n",
    "int[] result = s.twoSortedArrays(arr1, arr2, arr1.length, arr2.length);\n",
    "System.out.print(Arrays.toString(result));"
   ]
  },
  {
   "cell_type": "code",
   "execution_count": null,
   "metadata": {
    "vscode": {
     "languageId": "java"
    }
   },
   "outputs": [],
   "source": []
  }
 ],
 "metadata": {
  "kernelspec": {
   "display_name": "Java",
   "language": "java",
   "name": "java"
  },
  "language_info": {
   "codemirror_mode": "java",
   "file_extension": ".jshell",
   "mimetype": "text/x-java-source",
   "name": "Java",
   "pygments_lexer": "java",
   "version": "21.0.2+13-LTS-58"
  }
 },
 "nbformat": 4,
 "nbformat_minor": 2
}
