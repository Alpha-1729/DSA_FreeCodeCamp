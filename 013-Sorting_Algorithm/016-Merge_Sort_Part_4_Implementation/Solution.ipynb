{
 "cells": [
  {
   "cell_type": "code",
   "execution_count": null,
   "metadata": {
    "vscode": {
     "languageId": "java"
    }
   },
   "outputs": [],
   "source": [
    "// Merge Sort Part 4 Implementation\n",
    "\n",
    "/*\n",
    ">>>>\n",
    ">>>>\n",
    ">>>>\n",
    ">>>>\n",
    "*/\n"
   ]
  },
  {
   "cell_type": "code",
   "execution_count": 8,
   "metadata": {
    "vscode": {
     "languageId": "java"
    }
   },
   "outputs": [],
   "source": [
    "public class Solution {\n",
    "\n",
    "  public void mergeSort(int[] arr, int[] temp, int low, int high) {\n",
    "    if (low < high) {\n",
    "      int mid = low + (high - low) / 2;\n",
    "      mergeSort(arr, temp, low, mid);\n",
    "      mergeSort(arr, temp, mid + 1, high);\n",
    "      merge(arr, temp, low, mid, high);\n",
    "    }\n",
    "  }\n",
    "\n",
    "  public void merge(int[] arr, int[] temp, int low, int mid, int high) {\n",
    "    for (int i = low; i <= high; i++) {\n",
    "      temp[i] = arr[i];\n",
    "    }\n",
    "\n",
    "    int i = low;\n",
    "    int j = mid + 1;\n",
    "    int k = low;\n",
    "\n",
    "    while (i <= mid && j <= high) {\n",
    "      if (temp[i] <= temp[j]) {\n",
    "        arr[k] = temp[i];\n",
    "        i++;\n",
    "      } else {\n",
    "        arr[k] = temp[j];\n",
    "        j++;\n",
    "      }\n",
    "      k++;\n",
    "    }\n",
    "\n",
    "    while (i <= mid) {\n",
    "      arr[k] = temp[i];\n",
    "      i++;\n",
    "      k++;\n",
    "    }\n",
    "  }\n",
    "}\n"
   ]
  },
  {
   "cell_type": "code",
   "execution_count": 9,
   "metadata": {
    "vscode": {
     "languageId": "java"
    }
   },
   "outputs": [
    {
     "name": "stdout",
     "output_type": "stream",
     "text": [
      "[1, 2, 3, 4, 5, 5, 7]"
     ]
    }
   ],
   "source": [
    "Solution s = new Solution();\n",
    "int [] arr = {1, 5, 2, 7, 5, 4, 3};\n",
    "s.mergeSort(arr, new int[arr.length], 0, arr.length-1);\n",
    "System.out.print(Arrays.toString(arr));"
   ]
  },
  {
   "cell_type": "code",
   "execution_count": null,
   "metadata": {
    "vscode": {
     "languageId": "java"
    }
   },
   "outputs": [],
   "source": []
  },
  {
   "cell_type": "code",
   "execution_count": null,
   "metadata": {
    "vscode": {
     "languageId": "java"
    }
   },
   "outputs": [],
   "source": []
  }
 ],
 "metadata": {
  "kernelspec": {
   "display_name": "Java",
   "language": "java",
   "name": "java"
  },
  "language_info": {
   "codemirror_mode": "java",
   "file_extension": ".jshell",
   "mimetype": "text/x-java-source",
   "name": "Java",
   "pygments_lexer": "java",
   "version": "21.0.2+13-LTS-58"
  }
 },
 "nbformat": 4,
 "nbformat_minor": 2
}
