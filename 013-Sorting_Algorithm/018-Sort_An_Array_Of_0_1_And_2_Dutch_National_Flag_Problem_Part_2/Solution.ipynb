{
 "cells": [
  {
   "cell_type": "code",
   "execution_count": null,
   "metadata": {
    "vscode": {
     "languageId": "java"
    }
   },
   "outputs": [],
   "source": [
    "// Sort An Array Of 0 1 And 2 Dutch National Flag Problem Part 2\n",
    "\n",
    "/*\n",
    ">>>>\n",
    ">>>>\n",
    ">>>>\n",
    ">>>>\n",
    "*/\n"
   ]
  },
  {
   "cell_type": "code",
   "execution_count": 3,
   "metadata": {
    "vscode": {
     "languageId": "java"
    }
   },
   "outputs": [],
   "source": [
    "class Solution {\n",
    "\n",
    "  public void threeNumberSort(int[] arr) {\n",
    "    int i = 0;\n",
    "    int j = 0;\n",
    "    int k = arr.length - 1;\n",
    "    while (i <= k) {\n",
    "      if (arr[i] == 0) {\n",
    "        swap(arr, i, j);\n",
    "        i++;\n",
    "        j++;\n",
    "      } else if (arr[i] == 1) {\n",
    "        i++;\n",
    "      } else if (arr[i] == 2) {\n",
    "        swap(arr, i, k);\n",
    "        k--;\n",
    "      }\n",
    "    }\n",
    "  }\n",
    "\n",
    "  public void swap(int[] arr, int i, int j) {\n",
    "    int temp = arr[i];\n",
    "    arr[i] = arr[j];\n",
    "    arr[j] = temp;\n",
    "  }\n",
    "}\n"
   ]
  },
  {
   "cell_type": "code",
   "execution_count": 4,
   "metadata": {
    "vscode": {
     "languageId": "java"
    }
   },
   "outputs": [
    {
     "name": "stdout",
     "output_type": "stream",
     "text": [
      "[0, 0, 1, 1, 2, 2]\n"
     ]
    }
   ],
   "source": [
    "Solution s = new Solution();\n",
    "int [] arr = {2,0,2,1,1,0};\n",
    "s.threeNumberSort(arr);\n",
    "System.out.println(Arrays.toString(arr));"
   ]
  },
  {
   "cell_type": "code",
   "execution_count": null,
   "metadata": {
    "vscode": {
     "languageId": "java"
    }
   },
   "outputs": [],
   "source": []
  }
 ],
 "metadata": {
  "kernelspec": {
   "display_name": "Java",
   "language": "java",
   "name": "java"
  },
  "language_info": {
   "codemirror_mode": "java",
   "file_extension": ".jshell",
   "mimetype": "text/x-java-source",
   "name": "Java",
   "pygments_lexer": "java",
   "version": "21.0.2+13-LTS-58"
  }
 },
 "nbformat": 4,
 "nbformat_minor": 2
}
