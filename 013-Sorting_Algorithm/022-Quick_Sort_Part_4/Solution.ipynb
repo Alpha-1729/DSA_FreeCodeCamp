{
 "cells": [
  {
   "cell_type": "code",
   "execution_count": null,
   "metadata": {
    "vscode": {
     "languageId": "java"
    }
   },
   "outputs": [],
   "source": [
    "// Quick Sort Part 4\n",
    "\n",
    "/*\n",
    ">>>>\n",
    ">>>>\n",
    ">>>>\n",
    ">>>>\n",
    "*/\n"
   ]
  },
  {
   "cell_type": "code",
   "execution_count": 5,
   "metadata": {
    "vscode": {
     "languageId": "java"
    }
   },
   "outputs": [],
   "source": [
    "public class Solution {\n",
    "\n",
    "  public void quickSort(int[] arr, int low, int high) {\n",
    "    if (low < high) { // Base case.\n",
    "      int p = partition(arr, low, high);\n",
    "      quickSort(arr, low, p - 1);\n",
    "      quickSort(arr, p + 1, high);\n",
    "    }\n",
    "  }\n",
    "\n",
    "  public int partition(int[] arr, int low, int high) {\n",
    "    int pivot = arr[high];\n",
    "    int i = low;\n",
    "    int j = low;\n",
    "    while (i <= high) {\n",
    "      if (arr[i] <= pivot) {\n",
    "        int temp = arr[i];\n",
    "        arr[i] = arr[j];\n",
    "        arr[j] = temp;\n",
    "        j++;\n",
    "      }\n",
    "      i++;\n",
    "    }\n",
    "    return j - 1;\n",
    "  }\n",
    "}\n"
   ]
  },
  {
   "cell_type": "code",
   "execution_count": 6,
   "metadata": {
    "vscode": {
     "languageId": "java"
    }
   },
   "outputs": [
    {
     "name": "stdout",
     "output_type": "stream",
     "text": [
      "[1, 2, 3, 4, 5, 5, 7]"
     ]
    }
   ],
   "source": [
    "Solution s = new Solution();\n",
    "int [] arr = {1, 5, 2, 7, 5, 4, 3};\n",
    "s.quickSort(arr, 0, arr.length-1);\n",
    "System.out.print(Arrays.toString(arr));"
   ]
  },
  {
   "cell_type": "code",
   "execution_count": null,
   "metadata": {
    "vscode": {
     "languageId": "java"
    }
   },
   "outputs": [],
   "source": []
  }
 ],
 "metadata": {
  "kernelspec": {
   "display_name": "Java",
   "language": "java",
   "name": "java"
  },
  "language_info": {
   "codemirror_mode": "java",
   "file_extension": ".jshell",
   "mimetype": "text/x-java-source",
   "name": "Java",
   "pygments_lexer": "java",
   "version": "21.0.2+13-LTS-58"
  }
 },
 "nbformat": 4,
 "nbformat_minor": 2
}
