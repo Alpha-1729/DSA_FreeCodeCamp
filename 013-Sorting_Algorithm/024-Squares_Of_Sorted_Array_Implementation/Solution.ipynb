{
 "cells": [
  {
   "cell_type": "code",
   "execution_count": null,
   "metadata": {
    "vscode": {
     "languageId": "java"
    }
   },
   "outputs": [],
   "source": [
    "// Squares Of Sorted Array Implementation\n",
    "\n",
    "/*\n",
    ">>>>\n",
    ">>>>\n",
    ">>>>\n",
    ">>>>\n",
    "*/\n"
   ]
  },
  {
   "cell_type": "code",
   "execution_count": 1,
   "metadata": {
    "vscode": {
     "languageId": "java"
    }
   },
   "outputs": [],
   "source": [
    "public class Solution {\n",
    "\n",
    "  public int[] sortedSquares(int[] arr) {\n",
    "    int n = arr.length;\n",
    "    int i = 0;\n",
    "    int j = n - 1;\n",
    "\n",
    "    int[] result = new int[n];\n",
    "\n",
    "    for (int k = n - 1; k >= 0; k--) {\n",
    "      if (Math.abs(arr[i]) > Math.abs(arr[j])) {\n",
    "        result[k] = arr[i] * arr[i];\n",
    "        i++;\n",
    "      } else {\n",
    "        result[k] = arr[j] * arr[j];\n",
    "        j--;\n",
    "      }\n",
    "    }\n",
    "\n",
    "    return result;\n",
    "  }\n",
    "}\n"
   ]
  },
  {
   "cell_type": "code",
   "execution_count": 2,
   "metadata": {
    "vscode": {
     "languageId": "java"
    }
   },
   "outputs": [
    {
     "name": "stdout",
     "output_type": "stream",
     "text": [
      "[0, 1, 9, 16, 100]"
     ]
    }
   ],
   "source": [
    "Solution s = new Solution();\n",
    "int[] arr = {-4, -1, 0, 3, 10};\n",
    "int[] result = s.sortedSquares(arr);\n",
    "System.out.print(Arrays.toString(result));"
   ]
  },
  {
   "cell_type": "code",
   "execution_count": null,
   "metadata": {
    "vscode": {
     "languageId": "java"
    }
   },
   "outputs": [],
   "source": []
  }
 ],
 "metadata": {
  "kernelspec": {
   "display_name": "Java",
   "language": "java",
   "name": "java"
  },
  "language_info": {
   "codemirror_mode": "java",
   "file_extension": ".jshell",
   "mimetype": "text/x-java-source",
   "name": "Java",
   "pygments_lexer": "java",
   "version": "21.0.2+13-LTS-58"
  }
 },
 "nbformat": 4,
 "nbformat_minor": 2
}
