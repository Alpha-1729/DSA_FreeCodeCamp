{
 "cells": [
  {
   "cell_type": "code",
   "execution_count": null,
   "metadata": {
    "vscode": {
     "languageId": "java"
    }
   },
   "outputs": [],
   "source": [
    "// Rearrange Sorted Array In Max Min Form\n",
    "\n",
    "/*\n",
    ">>>>\n",
    ">>>>\n",
    ">>>>\n",
    ">>>>\n",
    "*/\n"
   ]
  },
  {
   "cell_type": "code",
   "execution_count": 5,
   "metadata": {
    "vscode": {
     "languageId": "java"
    }
   },
   "outputs": [],
   "source": [
    "public class Solution {\n",
    "\n",
    "  public void arrangeMaxMin(int[] arr) {\n",
    "    int maxIdx = arr.length - 1;\n",
    "    int minIdx = 0;\n",
    "    int max = arr[maxIdx] + 1;\n",
    "    for (int i = 0; i < arr.length; i++) {\n",
    "      if (i % 2 == 0) {\n",
    "        arr[i] = arr[i] + (arr[maxIdx] % max) * max;\n",
    "        maxIdx--;\n",
    "      } else {\n",
    "        arr[i] = arr[i] + (arr[minIdx] % max) * max;\n",
    "        minIdx++;\n",
    "      }\n",
    "    }\n",
    "    for (int i = 0; i < arr.length; i++) {\n",
    "      arr[i] = arr[i] / max;\n",
    "    }\n",
    "  }\n",
    "}\n"
   ]
  },
  {
   "cell_type": "code",
   "execution_count": 6,
   "metadata": {
    "vscode": {
     "languageId": "java"
    }
   },
   "outputs": [
    {
     "name": "stdout",
     "output_type": "stream",
     "text": [
      "[7, 1, 6, 2, 5, 3, 4]"
     ]
    }
   ],
   "source": [
    "Solution s = new Solution();\n",
    "int [] arr = {1, 2, 3, 4, 5, 6, 7};\n",
    "s.arrangeMaxMin(arr);\n",
    "System.out.print(Arrays.toString(arr));"
   ]
  },
  {
   "cell_type": "code",
   "execution_count": null,
   "metadata": {
    "vscode": {
     "languageId": "java"
    }
   },
   "outputs": [],
   "source": []
  }
 ],
 "metadata": {
  "kernelspec": {
   "display_name": "Java",
   "language": "java",
   "name": "java"
  },
  "language_info": {
   "codemirror_mode": "java",
   "file_extension": ".jshell",
   "mimetype": "text/x-java-source",
   "name": "Java",
   "pygments_lexer": "java",
   "version": "21.0.2+13-LTS-58"
  }
 },
 "nbformat": 4,
 "nbformat_minor": 2
}
