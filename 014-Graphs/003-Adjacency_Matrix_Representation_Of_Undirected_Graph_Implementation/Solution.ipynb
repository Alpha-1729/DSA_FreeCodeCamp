{
 "cells": [
  {
   "cell_type": "code",
   "execution_count": null,
   "metadata": {
    "vscode": {
     "languageId": "java"
    }
   },
   "outputs": [],
   "source": [
    "// Adjacency Matrix Representation Of Undirected Graph Implementation\n",
    "\n",
    "/*\n",
    ">>>>\n",
    ">>>>\n",
    ">>>>\n",
    ">>>>\n",
    "*/\n"
   ]
  },
  {
   "cell_type": "code",
   "execution_count": 13,
   "metadata": {
    "vscode": {
     "languageId": "java"
    }
   },
   "outputs": [],
   "source": [
    "public class Graph {\n",
    "\n",
    "  private int V; // Number of vertices in Graph.\n",
    "  private int E; // Number of edges in Graph.\n",
    "  private int[][] adjMatrix;\n",
    "\n",
    "  public Graph(int nodes) {\n",
    "    this.V = nodes;\n",
    "    this.E = 0;\n",
    "    this.adjMatrix = new int[nodes][nodes];\n",
    "  }\n",
    "\n",
    "  public void addEdge(int u, int v) {\n",
    "    adjMatrix[u][v] = 1;\n",
    "    adjMatrix[v][u] = 1; // Because it is an undirected graph.\n",
    "  }\n",
    "\n",
    "  public String toString() {\n",
    "    StringBuilder sb = new StringBuilder();\n",
    "    sb.append(V + \" vertices, \" + E + \" edges \" + \"\\n\");\n",
    "    for (int v = 0; v < V; v++) {\n",
    "      sb.append(v + \": \");\n",
    "      for (int w : adjMatrix[v]) {\n",
    "        sb.append(w + \" \");\n",
    "      }\n",
    "      sb.append(\"\\n\");\n",
    "    }\n",
    "    return sb.toString();\n",
    "  }\n",
    "\n",
    "  public void main() {\n",
    "    Graph g = new Graph(4);\n",
    "    g.addEdge(0, 1);\n",
    "    g.addEdge(1, 2);\n",
    "    g.addEdge(2, 3);\n",
    "    g.addEdge(3, 0);\n",
    "\n",
    "    System.out.println(g);\n",
    "  }\n",
    "}\n"
   ]
  },
  {
   "cell_type": "code",
   "execution_count": 14,
   "metadata": {
    "vscode": {
     "languageId": "java"
    }
   },
   "outputs": [
    {
     "name": "stdout",
     "output_type": "stream",
     "text": [
      "4 vertices, 0 edges \n",
      "0: 0 1 0 1 \n",
      "1: 1 0 1 0 \n",
      "2: 0 1 0 1 \n",
      "3: 1 0 1 0 \n",
      "\n"
     ]
    }
   ],
   "source": [
    "Graph graph = new Graph(4);\n",
    "graph.main();"
   ]
  },
  {
   "cell_type": "code",
   "execution_count": null,
   "metadata": {
    "vscode": {
     "languageId": "java"
    }
   },
   "outputs": [],
   "source": []
  }
 ],
 "metadata": {
  "kernelspec": {
   "display_name": "Java",
   "language": "java",
   "name": "java"
  },
  "language_info": {
   "codemirror_mode": "java",
   "file_extension": ".jshell",
   "mimetype": "text/x-java-source",
   "name": "Java",
   "pygments_lexer": "java",
   "version": "21.0.2+13-LTS-58"
  }
 },
 "nbformat": 4,
 "nbformat_minor": 2
}
