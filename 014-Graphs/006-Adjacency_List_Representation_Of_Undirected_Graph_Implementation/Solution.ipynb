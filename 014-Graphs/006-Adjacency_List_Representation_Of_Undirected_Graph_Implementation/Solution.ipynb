{
 "cells": [
  {
   "cell_type": "code",
   "execution_count": null,
   "metadata": {
    "vscode": {
     "languageId": "java"
    }
   },
   "outputs": [],
   "source": [
    "// Adjacency List Representation Of Undirected Graph Implementation\n",
    "\n",
    "/*\n",
    ">>>>\n",
    ">>>>\n",
    ">>>>\n",
    ">>>>\n",
    "*/\n"
   ]
  },
  {
   "cell_type": "code",
   "execution_count": 3,
   "metadata": {
    "vscode": {
     "languageId": "java"
    }
   },
   "outputs": [],
   "source": [
    "public class Graph {\n",
    "\n",
    "  private LinkedList<Integer>[] adj;\n",
    "  private int V; // Number of vertices in Graph.\n",
    "  private int E; // Number of edges in Graph.\n",
    "\n",
    "  public Graph(int nodes) {\n",
    "    this.V = nodes;\n",
    "    this.E = 0;\n",
    "    this.adj = new LinkedList[nodes];\n",
    "\n",
    "    for (int v = 0; v < V; v++) {\n",
    "      adj[v] = new LinkedList<>();\n",
    "    }\n",
    "  }\n",
    "\n",
    "  public void addEdge(int u, int v) {\n",
    "    adj[u].add(v);\n",
    "    adj[v].add(u);\n",
    "    E++;\n",
    "  }\n",
    "\n",
    "  public String toString() {\n",
    "    StringBuilder sb = new StringBuilder();\n",
    "    sb.append(V + \" vertices, \" + E + \" edges \" + \"\\n\");\n",
    "    for (int v = 0; v < V; v++) {\n",
    "      sb.append(v + \": \");\n",
    "      for (int w : adj[v]) {\n",
    "        sb.append(w + \" \");\n",
    "      }\n",
    "      sb.append(\"\\n\");\n",
    "    }\n",
    "    return sb.toString();\n",
    "  }\n",
    "\n",
    "  public void main() {\n",
    "    Graph g = new Graph(4);\n",
    "    g.addEdge(0, 1);\n",
    "    g.addEdge(1, 2);\n",
    "    g.addEdge(2, 3);\n",
    "    g.addEdge(3, 0);\n",
    "\n",
    "    System.out.println(g);\n",
    "  }\n",
    "}\n"
   ]
  },
  {
   "cell_type": "code",
   "execution_count": 4,
   "metadata": {
    "vscode": {
     "languageId": "java"
    }
   },
   "outputs": [
    {
     "name": "stdout",
     "output_type": "stream",
     "text": [
      "4 vertices, 4 edges \n",
      "0: 1 3 \n",
      "1: 0 2 \n",
      "2: 1 3 \n",
      "3: 2 0 \n",
      "\n"
     ]
    }
   ],
   "source": [
    "Graph graph = new Graph(4);\n",
    "graph.main();"
   ]
  },
  {
   "cell_type": "code",
   "execution_count": null,
   "metadata": {
    "vscode": {
     "languageId": "java"
    }
   },
   "outputs": [],
   "source": []
  }
 ],
 "metadata": {
  "kernelspec": {
   "display_name": "Java",
   "language": "java",
   "name": "java"
  },
  "language_info": {
   "codemirror_mode": "java",
   "file_extension": ".jshell",
   "mimetype": "text/x-java-source",
   "name": "Java",
   "pygments_lexer": "java",
   "version": "21.0.2+13-LTS-58"
  }
 },
 "nbformat": 4,
 "nbformat_minor": 2
}
