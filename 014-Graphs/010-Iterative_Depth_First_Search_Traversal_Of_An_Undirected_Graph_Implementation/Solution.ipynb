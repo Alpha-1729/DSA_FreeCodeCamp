{
 "cells": [
  {
   "cell_type": "code",
   "execution_count": null,
   "metadata": {},
   "outputs": [],
   "source": [
    "// Iterative Depth First Search Traversal Of An Undirected Graph Implementation\n",
    "\n",
    "/*\n",
    ">>>>\n",
    ">>>>\n",
    ">>>>\n",
    ">>>>\n",
    "*/\n"
   ]
  },
  {
   "cell_type": "code",
   "execution_count": 5,
   "metadata": {},
   "outputs": [],
   "source": [
    "public class Graph {\n",
    "\n",
    "  private LinkedList<Integer>[] adj;\n",
    "  private int V; // Number of vertices in Graph.\n",
    "  private int E; // Number of edges in Graph.\n",
    "\n",
    "  public Graph(int nodes) {\n",
    "    this.V = nodes;\n",
    "    this.E = 0;\n",
    "    this.adj = new LinkedList[nodes];\n",
    "\n",
    "    for (int v = 0; v < V; v++) {\n",
    "      adj[v] = new LinkedList<>();\n",
    "    }\n",
    "  }\n",
    "\n",
    "  public void addEdge(int u, int v) {\n",
    "    adj[u].add(v);\n",
    "    adj[v].add(u);\n",
    "    E++;\n",
    "  }\n",
    "\n",
    "  public String toString() {\n",
    "    StringBuilder sb = new StringBuilder();\n",
    "    sb.append(V + \" vertices, \" + E + \" edges \" + \"\\n\");\n",
    "    for (int v = 0; v < V; v++) {\n",
    "      sb.append(v + \": \");\n",
    "      for (int w : adj[v]) {\n",
    "        sb.append(w + \" \");\n",
    "      }\n",
    "      sb.append(\"\\n\");\n",
    "    }\n",
    "    return sb.toString();\n",
    "  }\n",
    "\n",
    "  public void bfs(int s) {\n",
    "    boolean[] visited = new boolean[V];\n",
    "    Queue<Integer> q = new LinkedList<>();\n",
    "    visited[s] = true;\n",
    "    q.offer(s);\n",
    "\n",
    "    while (!q.isEmpty()) {\n",
    "      int u = q.poll();\n",
    "      System.out.print(u + \" \");\n",
    "      for (int v : adj[u]) {\n",
    "        if (!visited[v]) {\n",
    "          visited[v] = true;\n",
    "          q.offer(v);\n",
    "        }\n",
    "      }\n",
    "    }\n",
    "  }\n",
    "\n",
    "  public void dfs(int s) {\n",
    "    boolean[] visited = new boolean[V];\n",
    "    Stack<Integer> stack = new Stack<>();\n",
    "    stack.push(s);\n",
    "\n",
    "    while (!stack.isEmpty()) {\n",
    "      int u = stack.pop();\n",
    "\n",
    "      if (!visited[u]) {\n",
    "        visited[u] = true;\n",
    "        System.out.print(u + \" \");\n",
    "        for (int v : adj[u]) {\n",
    "          if (!visited[v]) {\n",
    "            stack.push(v);\n",
    "          }\n",
    "        }\n",
    "      }\n",
    "    }\n",
    "  }\n",
    "\n",
    "  public void main() {\n",
    "    Graph g = new Graph(5);\n",
    "    g.addEdge(0, 1);\n",
    "    g.addEdge(1, 2);\n",
    "    g.addEdge(2, 3);\n",
    "    g.addEdge(3, 0);\n",
    "    g.addEdge(2, 4);\n",
    "    g.dfs(0);\n",
    "  }\n",
    "}\n"
   ]
  },
  {
   "cell_type": "code",
   "execution_count": 6,
   "metadata": {},
   "outputs": [
    {
     "name": "stdout",
     "output_type": "stream",
     "text": [
      "0 3 2 4 1 "
     ]
    }
   ],
   "source": [
    "Graph graph = new Graph(4);\n",
    "graph.main();"
   ]
  },
  {
   "cell_type": "code",
   "execution_count": null,
   "metadata": {},
   "outputs": [],
   "source": []
  }
 ],
 "metadata": {
  "kernelspec": {
   "display_name": "Java",
   "language": "java",
   "name": "java"
  },
  "language_info": {
   "codemirror_mode": "java",
   "file_extension": ".jshell",
   "mimetype": "text/x-java-source",
   "name": "java",
   "pygments_lexer": "java",
   "version": "21.0.2+13-LTS-58"
  }
 },
 "nbformat": 4,
 "nbformat_minor": 2
}
