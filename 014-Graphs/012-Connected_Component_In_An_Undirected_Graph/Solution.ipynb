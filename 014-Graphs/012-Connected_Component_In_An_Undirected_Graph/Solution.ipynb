{
 "cells": [
  {
   "cell_type": "code",
   "execution_count": null,
   "metadata": {},
   "outputs": [],
   "source": [
    "// Connected Component In An Undirected Graph\n",
    "\n",
    "/*\n",
    ">>>> Applications of connected components.\n",
    "        Can be represented as the roads of a small region.\n",
    "            We need to check one road is connected to the other roads.\n",
    "        Used to check any node is conencted to another nodes.\n",
    "\n",
    ">>>>\n",
    ">>>>\n",
    ">>>>\n",
    "*/\n"
   ]
  },
  {
   "cell_type": "code",
   "execution_count": null,
   "metadata": {},
   "outputs": [],
   "source": [
    "public class Solution {\n",
    "\n",
    "  public void dfs() {\n",
    "    boolean[] visited = new boolean[V];\n",
    "    int[] componentId = new int[V];\n",
    "    int count = 0;\n",
    "    for (int v = 0; v < V; v++) {\n",
    "      if (!visited[v]) {\n",
    "        dfs(v, visited, componentId, count);\n",
    "        count++;\n",
    "      }\n",
    "    }\n",
    "  }\n",
    "\n",
    "  public void dfs(int v, boolean[] visited, int[] componentId, int count) {\n",
    "    visited[v] = true;\n",
    "    componentId[v] = count;\n",
    "    for (int w : adj[v]) {\n",
    "      if (!visited[w]) {\n",
    "        dfs(w, visited, componentId, count);\n",
    "      }\n",
    "    }\n",
    "  }\n",
    "}\n"
   ]
  },
  {
   "cell_type": "code",
   "execution_count": null,
   "metadata": {},
   "outputs": [],
   "source": [
    "Solution s = new Solution();"
   ]
  }
 ],
 "metadata": {
  "kernelspec": {
   "display_name": "Java",
   "language": "java",
   "name": "java"
  },
  "language_info": {
   "codemirror_mode": "java",
   "file_extension": ".jshell",
   "mimetype": "text/x-java-source",
   "name": "java",
   "pygments_lexer": "java",
   "version": "21.0.2+13-LTS-58"
  }
 },
 "nbformat": 4,
 "nbformat_minor": 2
}
