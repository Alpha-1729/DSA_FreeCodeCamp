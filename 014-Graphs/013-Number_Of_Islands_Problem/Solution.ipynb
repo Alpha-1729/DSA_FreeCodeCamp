{
 "cells": [
  {
   "cell_type": "code",
   "execution_count": null,
   "metadata": {},
   "outputs": [],
   "source": [
    "// Number Of Islands Problem\n",
    "\n",
    "/*\n",
    ">>>> Solution can be find using the idea of connected component.\n",
    ">>>>\n",
    ">>>>\n",
    ">>>>\n",
    "*/\n"
   ]
  },
  {
   "cell_type": "code",
   "execution_count": null,
   "metadata": {},
   "outputs": [],
   "source": [
    "class Solution {\n",
    "\n",
    "  public int numIslands(char[][] grid) {\n",
    "    int m = grid.length;\n",
    "    int n = grid[0].length;\n",
    "    boolean[][] visited = new boolean[m][n];\n",
    "    int numOfIsIands = 0;\n",
    "    for (int i = 0; i < m; i++) {\n",
    "      for (int j = 0; j < n; j++) {\n",
    "        if (!visited[i][j] && grid[i][j] == '1') {\n",
    "          dfs(grid, i, j, visited);\n",
    "          numOfIsIands++;\n",
    "        }\n",
    "      }\n",
    "    }\n",
    "    return numOfIsIands;\n",
    "  }\n",
    "\n",
    "  public void dfs(char[][] grid, int row, int col, boolean[][] visited) {\n",
    "    if (\n",
    "      row < 0 ||\n",
    "      col < 0 ||\n",
    "      row >= grid.length ||\n",
    "      col >= grid[0].length ||\n",
    "      visited[row][col] ||\n",
    "      grid[row][col] == '0'\n",
    "    ) {\n",
    "      return;\n",
    "    }\n",
    "    visited[row][col] = true;\n",
    "    dfs(grid, row, col - 1, visited); // go left\n",
    "    dfs(grid, row - 1, col, visited); // go up\n",
    "    dfs(grid, row, col + 1, visited); // go right\n",
    "    dfs(grid, row + 1, col, visited); // go down\n",
    "  }\n",
    "}\n"
   ]
  },
  {
   "cell_type": "code",
   "execution_count": null,
   "metadata": {},
   "outputs": [],
   "source": [
    "Solution s = new Solution();"
   ]
  }
 ],
 "metadata": {
  "kernelspec": {
   "display_name": "Java",
   "language": "java",
   "name": "java"
  },
  "language_info": {
   "codemirror_mode": "java",
   "file_extension": ".jshell",
   "mimetype": "text/x-java-source",
   "name": "java",
   "pygments_lexer": "java",
   "version": "21.0.2+13-LTS-58"
  }
 },
 "nbformat": 4,
 "nbformat_minor": 2
}
