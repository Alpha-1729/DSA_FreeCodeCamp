{
 "cells": [
  {
   "cell_type": "code",
   "execution_count": null,
   "metadata": {},
   "outputs": [],
   "source": [
    "// How To Put A Key Value Pair In Hashtable Separate Chaining Part 2\n",
    "\n",
    "/*\n",
    ">>>>\n",
    ">>>>\n",
    ">>>>\n",
    ">>>>\n",
    "*/\n"
   ]
  },
  {
   "cell_type": "code",
   "execution_count": null,
   "metadata": {},
   "outputs": [],
   "source": [
    "public class HashTable {\n",
    "\n",
    "  private HashNode[] buckets;\n",
    "  private int numOfBuckets; // capacity.\n",
    "  private int size; // Number of key value pairs in the hash table.\n",
    "\n",
    "  public HashTable() {\n",
    "    this(10);\n",
    "  }\n",
    "\n",
    "  public HashTable(int capacity) {\n",
    "    this.numOfBuckets = capacity;\n",
    "    buckets = new HashNode[capacity];\n",
    "    this.size = 0;\n",
    "  }\n",
    "\n",
    "  private class HashNode {\n",
    "\n",
    "    private Integer key; // Can be generic type.\n",
    "    private String value; // Can be generic type.\n",
    "    private HashNode next; // reference to next HashNode.\n",
    "\n",
    "    public HashNode(Integer key, String value) {\n",
    "      this.key = key;\n",
    "      this.value = value;\n",
    "    }\n",
    "  }\n",
    "\n",
    "  public int size() {\n",
    "    return size;\n",
    "  }\n",
    "\n",
    "  public boolean isEmpty() {\n",
    "    return size == 0;\n",
    "  }\n",
    "\n",
    "  public void put(Integer key, String value) {}\n",
    "\n",
    "  public String get(Integer key) {\n",
    "    return null;\n",
    "  }\n",
    "\n",
    "  public String remove(Integer key) {\n",
    "    return null;\n",
    "  }\n",
    "}\n"
   ]
  },
  {
   "cell_type": "code",
   "execution_count": null,
   "metadata": {},
   "outputs": [],
   "source": [
    "Solution s = new Solution();"
   ]
  }
 ],
 "metadata": {
  "kernelspec": {
   "display_name": "Java",
   "language": "java",
   "name": "java"
  },
  "language_info": {
   "codemirror_mode": "java",
   "file_extension": ".jshell",
   "mimetype": "text/x-java-source",
   "name": "java",
   "pygments_lexer": "java",
   "version": "21.0.2+13-LTS-58"
  }
 },
 "nbformat": 4,
 "nbformat_minor": 2
}
