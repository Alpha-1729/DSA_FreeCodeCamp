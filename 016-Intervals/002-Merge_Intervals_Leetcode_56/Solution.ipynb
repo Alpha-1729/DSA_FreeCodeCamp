{
 "cells": [
  {
   "cell_type": "code",
   "execution_count": null,
   "metadata": {},
   "outputs": [],
   "source": [
    "// Merge Intervals Leetcode 56\n",
    "\n",
    "/*\n",
    ">>>>\n",
    ">>>>\n",
    ">>>>\n",
    ">>>>\n",
    "*/\n"
   ]
  },
  {
   "cell_type": "code",
   "execution_count": null,
   "metadata": {},
   "outputs": [],
   "source": [
    "public class Solution {\n",
    "\n",
    "  public class Interval {\n",
    "\n",
    "    private int start;\n",
    "    private int end;\n",
    "\n",
    "    public Interval(int start, int end) {\n",
    "      this.start = start;\n",
    "      this.end = end;\n",
    "    }\n",
    "  }\n",
    "\n",
    "  public List<Interval> merge(List<Interval> intervals) {\n",
    "    if (intervals.size() < 2) return intervals;\n",
    "\n",
    "    intervals.sort((in1, in2) -> Integer.compare(in1.start, in2.start));\n",
    "\n",
    "    List<Interval> result = new LinkedList<>();\n",
    "    Interval first = intervals.get(0);\n",
    "    int start = first.start;\n",
    "    int end = first.end;\n",
    "\n",
    "    for (int i = 1; i < intervals.size(); i++) {\n",
    "      Interval current = intervals.get(i);\n",
    "      if (current.start <= end) {\n",
    "        end = Math.max(current.end, end);\n",
    "      } else {\n",
    "        result.add(new Interval(start, end));\n",
    "        start = current.start;\n",
    "        end = current.end;\n",
    "      }\n",
    "    }\n",
    "\n",
    "    result.add(new Interval(start, end));\n",
    "    return result;\n",
    "  }\n",
    "}\n"
   ]
  },
  {
   "cell_type": "code",
   "execution_count": null,
   "metadata": {},
   "outputs": [],
   "source": [
    "Solution s = new Solution();"
   ]
  }
 ],
 "metadata": {
  "kernelspec": {
   "display_name": "Java",
   "language": "java",
   "name": "java"
  },
  "language_info": {
   "codemirror_mode": "java",
   "file_extension": ".jshell",
   "mimetype": "text/x-java-source",
   "name": "java",
   "pygments_lexer": "java",
   "version": "21.0.2+13-LTS-58"
  }
 },
 "nbformat": 4,
 "nbformat_minor": 2
}
