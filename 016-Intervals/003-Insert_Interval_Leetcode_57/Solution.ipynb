{
 "cells": [
  {
   "cell_type": "code",
   "execution_count": null,
   "metadata": {},
   "outputs": [],
   "source": [
    "// Insert Interval Leetcode 57\n",
    "\n",
    "/*\n",
    ">>>>\n",
    ">>>>\n",
    ">>>>\n",
    ">>>>\n",
    "*/\n"
   ]
  },
  {
   "cell_type": "code",
   "execution_count": null,
   "metadata": {},
   "outputs": [],
   "source": [
    "public class Solution {\n",
    "\n",
    "  public List<Interval> insert(List<Interval> intervals, Interval newInterval) {\n",
    "    if (intervals == null || intervals.isEmpty()) {\n",
    "      return intervals;\n",
    "    }\n",
    "\n",
    "    List<Interval> result = new LinkedList<>();\n",
    "    int i = 0;\n",
    "\n",
    "    while (i < intervals.size() && intervals.get(i).end < newInterval.start) {\n",
    "      result.add(intervals.get(i));\n",
    "      i++;\n",
    "    }\n",
    "\n",
    "    while (i < intervals.size() && intervals.get(i).start <= newInterval.end) {\n",
    "      Interval current = intervals.get(i);\n",
    "      newInterval.start = Math.min(current.start, newInterval.start);\n",
    "      newInterval.end = Math.max(current.end, newInterval.end);\n",
    "      i++;\n",
    "    }\n",
    "\n",
    "    result.add(newInterval);\n",
    "\n",
    "    while (i < intervals.size()) {\n",
    "      result.add(intervals.get(i));\n",
    "      i++;\n",
    "    }\n",
    "\n",
    "    return result;\n",
    "  }\n",
    "}\n"
   ]
  },
  {
   "cell_type": "code",
   "execution_count": null,
   "metadata": {},
   "outputs": [],
   "source": [
    "Solution s = new Solution();"
   ]
  }
 ],
 "metadata": {
  "kernelspec": {
   "display_name": "Java",
   "language": "java",
   "name": "java"
  },
  "language_info": {
   "codemirror_mode": "java",
   "file_extension": ".jshell",
   "mimetype": "text/x-java-source",
   "name": "java",
   "pygments_lexer": "java",
   "version": "21.0.2+13-LTS-58"
  }
 },
 "nbformat": 4,
 "nbformat_minor": 2
}
