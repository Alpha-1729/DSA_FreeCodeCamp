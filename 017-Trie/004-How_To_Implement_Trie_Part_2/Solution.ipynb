{
 "cells": [
  {
   "cell_type": "code",
   "execution_count": null,
   "metadata": {},
   "outputs": [],
   "source": [
    "// How To Implement Trie Part 2\n",
    "\n",
    "/*\n",
    ">>>>\n",
    ">>>>\n",
    ">>>>\n",
    ">>>>\n",
    "*/\n"
   ]
  },
  {
   "cell_type": "code",
   "execution_count": null,
   "metadata": {},
   "outputs": [],
   "source": [
    "public class Trie {\n",
    "\n",
    "  private TrieNode root;\n",
    "\n",
    "  public Trie() {\n",
    "    root = new TrieNode(); // root is empty.\n",
    "  }\n",
    "\n",
    "  private class TrieNode {\n",
    "\n",
    "    private TrieNode[] children;\n",
    "    private boolean isWord;\n",
    "\n",
    "    public TrieNode() {\n",
    "      this.children = new TrieNode[26]; // Storing only english alphabets.\n",
    "      this.isWord = false; // To represent the end of the word.\n",
    "    }\n",
    "  }\n",
    "\n",
    "  public void insert(String word) {}\n",
    "\n",
    "  public boolean search(String word) {\n",
    "    return false;\n",
    "  }\n",
    "\n",
    "  public void main(String[] args) {}\n",
    "}\n"
   ]
  },
  {
   "cell_type": "code",
   "execution_count": null,
   "metadata": {},
   "outputs": [],
   "source": [
    "Trie s = new Trie();"
   ]
  }
 ],
 "metadata": {
  "kernelspec": {
   "display_name": "Java",
   "language": "java",
   "name": "java"
  },
  "language_info": {
   "codemirror_mode": "java",
   "file_extension": ".jshell",
   "mimetype": "text/x-java-source",
   "name": "java",
   "pygments_lexer": "java",
   "version": "21.0.2+13-LTS-58"
  }
 },
 "nbformat": 4,
 "nbformat_minor": 2
}
