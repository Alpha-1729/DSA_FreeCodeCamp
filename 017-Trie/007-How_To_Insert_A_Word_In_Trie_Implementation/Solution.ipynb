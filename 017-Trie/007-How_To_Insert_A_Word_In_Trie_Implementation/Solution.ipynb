{
 "cells": [
  {
   "cell_type": "code",
   "execution_count": null,
   "metadata": {
    "vscode": {
     "languageId": "java"
    }
   },
   "outputs": [],
   "source": [
    "// How To Insert A Word In Trie Implementation\n",
    "\n",
    "/*\n",
    ">>>>\n",
    ">>>>\n",
    ">>>>\n",
    ">>>>\n",
    "*/\n"
   ]
  },
  {
   "cell_type": "code",
   "execution_count": 9,
   "metadata": {
    "vscode": {
     "languageId": "java"
    }
   },
   "outputs": [],
   "source": [
    "public class Trie {\n",
    "\n",
    "  private TrieNode root;\n",
    "\n",
    "  public Trie() {\n",
    "    root = new TrieNode(); // root is empty.\n",
    "  }\n",
    "\n",
    "  private class TrieNode {\n",
    "\n",
    "    private TrieNode[] children;\n",
    "    private boolean isWord;\n",
    "\n",
    "    public TrieNode() {\n",
    "      this.children = new TrieNode[26]; // Storing only english alphabets.\n",
    "      this.isWord = false; // To represent the end of the word.\n",
    "    }\n",
    "  }\n",
    "\n",
    "  public void insert(String word) {\n",
    "    if (word == null || word.isEmpty()) {\n",
    "      throw new IllegalArgumentException(\"Invalid input\");\n",
    "    }\n",
    "    word = word.toLowerCase();\n",
    "\n",
    "    TrieNode current = root;\n",
    "    for (int i = 0; i < word.length(); i++) {\n",
    "      char c = word.charAt(i);\n",
    "      int index = c - 'a';\n",
    "      if (current.children[index] == null) {\n",
    "        TrieNode node = new TrieNode();\n",
    "        current.children[index] = node;\n",
    "        current = node;\n",
    "      } else {\n",
    "        current = current.children[index];\n",
    "      }\n",
    "    }\n",
    "    current.isWord = true;\n",
    "  }\n",
    "\n",
    "  public boolean search(String word) {\n",
    "    return false;\n",
    "  }\n",
    "\n",
    "  public static void main() {\n",
    "    Trie trie = new Trie();\n",
    "    trie.insert(\"cat\");\n",
    "    trie.insert(\"cab\");\n",
    "    trie.insert(\"son\");\n",
    "    trie.insert(\"so\");\n",
    "    System.out.println(\"Values inserted successfully\");\n",
    "  }\n",
    "}\n"
   ]
  },
  {
   "cell_type": "code",
   "execution_count": 11,
   "metadata": {
    "vscode": {
     "languageId": "java"
    }
   },
   "outputs": [
    {
     "name": "stdout",
     "output_type": "stream",
     "text": [
      "Values inserted successfully\n"
     ]
    }
   ],
   "source": [
    "Trie.main();"
   ]
  },
  {
   "cell_type": "code",
   "execution_count": null,
   "metadata": {
    "vscode": {
     "languageId": "java"
    }
   },
   "outputs": [],
   "source": []
  }
 ],
 "metadata": {
  "kernelspec": {
   "display_name": "Java",
   "language": "java",
   "name": "java"
  },
  "language_info": {
   "codemirror_mode": "java",
   "file_extension": ".jshell",
   "mimetype": "text/x-java-source",
   "name": "Java",
   "pygments_lexer": "java",
   "version": "21.0.2+13-LTS-58"
  }
 },
 "nbformat": 4,
 "nbformat_minor": 2
}
