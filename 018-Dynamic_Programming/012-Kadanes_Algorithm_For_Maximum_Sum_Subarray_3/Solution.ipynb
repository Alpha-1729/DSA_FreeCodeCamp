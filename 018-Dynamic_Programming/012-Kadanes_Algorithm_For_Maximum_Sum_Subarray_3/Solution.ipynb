{
 "cells": [
  {
   "cell_type": "code",
   "execution_count": null,
   "metadata": {
    "vscode": {
     "languageId": "java"
    }
   },
   "outputs": [],
   "source": [
    "// Kadanes Algorithm For Maximum Sum Subarray 3\n",
    "\n",
    "/*\n",
    ">>>>\n",
    ">>>>\n",
    ">>>>\n",
    ">>>>\n",
    "*/\n"
   ]
  },
  {
   "cell_type": "code",
   "execution_count": 4,
   "metadata": {
    "vscode": {
     "languageId": "java"
    }
   },
   "outputs": [],
   "source": [
    "public class Solution {\n",
    "\n",
    "  public int maxSubArraySum(int[] arr) {\n",
    "    int maxSoFar = arr[0];\n",
    "    int currentMax = arr[0];\n",
    "    for (int i = 1; i < arr.length; i++) {\n",
    "      currentMax = currentMax + arr[i];\n",
    "      if (currentMax < arr[i]) {\n",
    "        currentMax = arr[i];\n",
    "      }\n",
    "      if (maxSoFar < currentMax) {\n",
    "        maxSoFar = currentMax;\n",
    "      }\n",
    "    }\n",
    "    return maxSoFar;\n",
    "  }\n",
    "}\n"
   ]
  },
  {
   "cell_type": "code",
   "execution_count": 1,
   "metadata": {
    "vscode": {
     "languageId": "java"
    }
   },
   "outputs": [],
   "source": [
    "public class Solution {\n",
    "\n",
    "  public int maxSubArraySum(int[] arr) {\n",
    "    int maxSoFar = arr[0];\n",
    "    int currentMax = arr[0];\n",
    "    for (int i = 1; i < arr.length; i++) {\n",
    "      currentMax = Math.max(arr[i], currentMax + arr[i]);\n",
    "      maxSoFar = Math.max(maxSoFar, currentMax);\n",
    "    }\n",
    "    return maxSoFar;\n",
    "  }\n",
    "}\n"
   ]
  },
  {
   "cell_type": "code",
   "execution_count": 5,
   "metadata": {
    "vscode": {
     "languageId": "java"
    }
   },
   "outputs": [
    {
     "data": {
      "text/plain": [
       "12"
      ]
     },
     "execution_count": 5,
     "metadata": {},
     "output_type": "execute_result"
    }
   ],
   "source": [
    "Solution s = new Solution();\n",
    "int [] arr = {4, 3, -2, 6, -12, 7, -1, 6};\n",
    "s.maxSubArraySum(arr);"
   ]
  },
  {
   "cell_type": "code",
   "execution_count": null,
   "metadata": {
    "vscode": {
     "languageId": "java"
    }
   },
   "outputs": [],
   "source": []
  }
 ],
 "metadata": {
  "kernelspec": {
   "display_name": "Java",
   "language": "java",
   "name": "java"
  },
  "language_info": {
   "codemirror_mode": "java",
   "file_extension": ".jshell",
   "mimetype": "text/x-java-source",
   "name": "Java",
   "pygments_lexer": "java",
   "version": "21.0.2+13-LTS-58"
  }
 },
 "nbformat": 4,
 "nbformat_minor": 2
}
