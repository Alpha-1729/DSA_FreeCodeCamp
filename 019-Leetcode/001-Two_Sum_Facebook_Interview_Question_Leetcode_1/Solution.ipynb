{
 "cells": [
  {
   "cell_type": "code",
   "execution_count": null,
   "metadata": {},
   "outputs": [],
   "source": [
    "// Two Sum Facebook Interview Question Leetcode 1\n",
    "\n",
    "/*\n",
    ">>>>\n",
    ">>>>\n",
    ">>>>\n",
    ">>>>\n",
    "*/\n"
   ]
  },
  {
   "cell_type": "code",
   "execution_count": 15,
   "metadata": {},
   "outputs": [],
   "source": [
    "public class Solution {\n",
    "\n",
    "  public int[] twoSum(int[] numbers, int target) {\n",
    "    int[] result = new int[2];\n",
    "    Map<Integer, Integer> map = new HashMap<>();\n",
    "    for (int i = 0; i < numbers.length; i++) {\n",
    "      if (!map.containsKey(target - numbers[i])) {\n",
    "        map.put(numbers[i], i);\n",
    "      } else {\n",
    "        result[0] = map.get(target - numbers[i]);\n",
    "        result[1] = i;\n",
    "        return result;\n",
    "      }\n",
    "    }\n",
    "    throw new IllegalArgumentException(\"Two numbers not found\");\n",
    "  }\n",
    "}\n"
   ]
  },
  {
   "cell_type": "code",
   "execution_count": 18,
   "metadata": {},
   "outputs": [
    {
     "name": "stdout",
     "output_type": "stream",
     "text": [
      "[1, 3]\n"
     ]
    }
   ],
   "source": [
    "Solution s = new Solution();\n",
    "int[] arr = {1, 3, 5, 6, 8};\n",
    "int[] result = s.twoSum(arr, 9);\n",
    "System.out.println(Arrays.toString(result));"
   ]
  },
  {
   "cell_type": "code",
   "execution_count": null,
   "metadata": {},
   "outputs": [],
   "source": []
  }
 ],
 "metadata": {
  "kernelspec": {
   "display_name": "Java",
   "language": "java",
   "name": "java"
  },
  "language_info": {
   "codemirror_mode": "java",
   "file_extension": ".jshell",
   "mimetype": "text/x-java-source",
   "name": "java",
   "pygments_lexer": "java",
   "version": "21.0.2+13-LTS-58"
  }
 },
 "nbformat": 4,
 "nbformat_minor": 2
}
