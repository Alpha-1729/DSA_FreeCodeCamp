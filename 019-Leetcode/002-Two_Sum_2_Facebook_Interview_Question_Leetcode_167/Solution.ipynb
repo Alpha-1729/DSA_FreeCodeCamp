{
 "cells": [
  {
   "cell_type": "code",
   "execution_count": null,
   "metadata": {
    "vscode": {
     "languageId": "java"
    }
   },
   "outputs": [],
   "source": [
    "// Two Sum 2 Facebook Interview Question Leetcode 167\n",
    "\n",
    "/*\n",
    ">>>>\n",
    ">>>>\n",
    ">>>>\n",
    ">>>>\n",
    "*/\n"
   ]
  },
  {
   "cell_type": "code",
   "execution_count": 1,
   "metadata": {
    "vscode": {
     "languageId": "java"
    }
   },
   "outputs": [],
   "source": [
    "public class Solution {\n",
    "\n",
    "  public int[] twoSum(int[] arr, int target) {\n",
    "    Arrays.sort(arr);\n",
    "    int left = 0;\n",
    "    int right = arr.length - 1;\n",
    "    int[] result = new int[2];\n",
    "    while (left < right) {\n",
    "      int sum = arr[left] + arr[right];\n",
    "      if (sum == target) {\n",
    "        result[0] = arr[left];\n",
    "        result[1] = arr[right];\n",
    "        return result;\n",
    "      } else if (sum < target) {\n",
    "        left++;\n",
    "      } else {\n",
    "        right--;\n",
    "      }\n",
    "    }\n",
    "    return new int[0];\n",
    "  }\n",
    "}\n"
   ]
  },
  {
   "cell_type": "code",
   "execution_count": 2,
   "metadata": {
    "vscode": {
     "languageId": "java"
    }
   },
   "outputs": [
    {
     "name": "stdout",
     "output_type": "stream",
     "text": [
      "[1, 8]\n"
     ]
    }
   ],
   "source": [
    "Solution s = new Solution();\n",
    "int[] arr = {1, 3, 5, 6, 8};\n",
    "int[] result = s.twoSum(arr, 9);\n",
    "System.out.println(Arrays.toString(result));"
   ]
  },
  {
   "cell_type": "code",
   "execution_count": null,
   "metadata": {
    "vscode": {
     "languageId": "java"
    }
   },
   "outputs": [],
   "source": []
  }
 ],
 "metadata": {
  "kernelspec": {
   "display_name": "Java",
   "language": "java",
   "name": "java"
  },
  "language_info": {
   "codemirror_mode": "java",
   "file_extension": ".jshell",
   "mimetype": "text/x-java-source",
   "name": "Java",
   "pygments_lexer": "java",
   "version": "21.0.2+13-LTS-58"
  }
 },
 "nbformat": 4,
 "nbformat_minor": 2
}
