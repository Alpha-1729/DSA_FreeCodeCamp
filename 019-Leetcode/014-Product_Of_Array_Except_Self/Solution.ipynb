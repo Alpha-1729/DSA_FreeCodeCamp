{
 "cells": [
  {
   "cell_type": "code",
   "execution_count": null,
   "metadata": {
    "vscode": {
     "languageId": "java"
    }
   },
   "outputs": [],
   "source": [
    "// Product Of Array Except Self\n",
    "\n",
    "/*\n",
    ">>>>\n",
    ">>>>\n",
    ">>>>\n",
    ">>>>\n",
    "*/\n"
   ]
  },
  {
   "cell_type": "code",
   "execution_count": 1,
   "metadata": {
    "vscode": {
     "languageId": "java"
    }
   },
   "outputs": [],
   "source": [
    "public class Solution {\n",
    "\n",
    "  public int[] findProduct(int[] arr) {\n",
    "    int temp = 1;\n",
    "    int[] result = new int[arr.length];\n",
    "\n",
    "    for (int i = 0; i < arr.length; i++) {\n",
    "      result[i] = temp;\n",
    "      temp *= arr[i];\n",
    "    }\n",
    "\n",
    "    temp = 1;\n",
    "    for (int i = arr.length - 1; i >= 0; i--) {\n",
    "      result[i] *= temp;\n",
    "      temp *= arr[i];\n",
    "    }\n",
    "\n",
    "    return result;\n",
    "  }\n",
    "}\n"
   ]
  },
  {
   "cell_type": "code",
   "execution_count": 3,
   "metadata": {
    "vscode": {
     "languageId": "java"
    }
   },
   "outputs": [
    {
     "name": "stdout",
     "output_type": "stream",
     "text": [
      "[24, 12, 8, 6]\n"
     ]
    }
   ],
   "source": [
    "Solution s = new Solution();\n",
    "int[] arr = {1, 2, 3, 4};\n",
    "int[] result = s.findProduct(arr);\n",
    "System.out.println(Arrays.toString(result));"
   ]
  },
  {
   "cell_type": "code",
   "execution_count": null,
   "metadata": {
    "vscode": {
     "languageId": "java"
    }
   },
   "outputs": [],
   "source": []
  }
 ],
 "metadata": {
  "kernelspec": {
   "display_name": "Java",
   "language": "java",
   "name": "java"
  },
  "language_info": {
   "codemirror_mode": "java",
   "file_extension": ".jshell",
   "mimetype": "text/x-java-source",
   "name": "Java",
   "pygments_lexer": "java",
   "version": "21.0.2+13-LTS-58"
  }
 },
 "nbformat": 4,
 "nbformat_minor": 2
}
