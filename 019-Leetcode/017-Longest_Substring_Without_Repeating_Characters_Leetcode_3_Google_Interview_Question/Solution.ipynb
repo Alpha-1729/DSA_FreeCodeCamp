{
 "cells": [
  {
   "cell_type": "code",
   "execution_count": null,
   "metadata": {
    "vscode": {
     "languageId": "java"
    }
   },
   "outputs": [],
   "source": [
    "// Longest Substring Without Repeating Characters Leetcode 3 Google Interview Question\n",
    "\n",
    "/*\n",
    ">>>>\n",
    ">>>>\n",
    ">>>>\n",
    ">>>>\n",
    "*/\n"
   ]
  },
  {
   "cell_type": "code",
   "execution_count": 1,
   "metadata": {
    "vscode": {
     "languageId": "java"
    }
   },
   "outputs": [],
   "source": [
    "public class Solution {\n",
    "\n",
    "  public int lengthOfLongestSubstring(String s) {\n",
    "    Map<Character, Integer> map = new HashMap<>();\n",
    "    int maxLength = 0;\n",
    "    int start = 0;\n",
    "\n",
    "    for (int end = 0; end < s.length(); end++) {\n",
    "      char rightChar = s.charAt(end);\n",
    "      if (map.containsKey(rightChar)) {\n",
    "        start = Math.max(start, map.get(rightChar) + 1);\n",
    "      }\n",
    "      map.put(rightChar, end);\n",
    "      maxLength = Math.max(maxLength, end - start + 1);\n",
    "    }\n",
    "\n",
    "    return maxLength;\n",
    "  }\n",
    "}\n"
   ]
  },
  {
   "cell_type": "code",
   "execution_count": 2,
   "metadata": {
    "vscode": {
     "languageId": "java"
    }
   },
   "outputs": [
    {
     "data": {
      "text/plain": [
       "3"
      ]
     },
     "execution_count": 2,
     "metadata": {},
     "output_type": "execute_result"
    }
   ],
   "source": [
    "Solution s = new Solution();\n",
    "s.lengthOfLongestSubstring(\"pwwkew\");"
   ]
  },
  {
   "cell_type": "code",
   "execution_count": null,
   "metadata": {
    "vscode": {
     "languageId": "java"
    }
   },
   "outputs": [],
   "source": []
  }
 ],
 "metadata": {
  "kernelspec": {
   "display_name": "Java",
   "language": "java",
   "name": "java"
  },
  "language_info": {
   "codemirror_mode": "java",
   "file_extension": ".jshell",
   "mimetype": "text/x-java-source",
   "name": "Java",
   "pygments_lexer": "java",
   "version": "21.0.2+13-LTS-58"
  }
 },
 "nbformat": 4,
 "nbformat_minor": 2
}
