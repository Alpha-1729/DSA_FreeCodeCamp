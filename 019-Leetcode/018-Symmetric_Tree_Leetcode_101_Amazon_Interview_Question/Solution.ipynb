{
 "cells": [
  {
   "cell_type": "code",
   "execution_count": null,
   "metadata": {
    "vscode": {
     "languageId": "java"
    }
   },
   "outputs": [],
   "source": [
    "// Symmetric Tree Leetcode 101 Amazon Interview Question\n",
    "\n",
    "/*\n",
    ">>>>\n",
    ">>>>\n",
    ">>>>\n",
    ">>>>\n",
    "*/\n"
   ]
  },
  {
   "cell_type": "code",
   "execution_count": null,
   "metadata": {
    "vscode": {
     "languageId": "java"
    }
   },
   "outputs": [],
   "source": [
    "public class Solution {\n",
    "\n",
    "  private class TreeNode {\n",
    "\n",
    "    int val;\n",
    "    TreeNode left;\n",
    "    TreeNode right;\n",
    "\n",
    "    TreeNode(int val) {\n",
    "      this.val = val;\n",
    "      left = null;\n",
    "      right = null;\n",
    "    }\n",
    "  }\n",
    "\n",
    "  public boolean isSymmetric(TreeNode root) {\n",
    "    if (root == null) return true;\n",
    "\n",
    "    Stack<TreeNode> stack = new Stack<>();\n",
    "    stack.push(root.right);\n",
    "    stack.push(root.left);\n",
    "\n",
    "    while (!stack.isEmpty()) {\n",
    "      TreeNode n1 = stack.pop();\n",
    "      TreeNode n2 = stack.pop();\n",
    "\n",
    "      if (n1 == null && n2 == null) continue;\n",
    "      if (n1 == null || n2 == null || n1.val != n2.val) return false;\n",
    "\n",
    "      stack.push(n1.left);\n",
    "      stack.push(n2.right);\n",
    "      stack.push(n1.right);\n",
    "      stack.push(n2.left);\n",
    "    }\n",
    "\n",
    "    return true;\n",
    "  }\n",
    "\n",
    "  public void main() {\n",
    "    TreeNode root = new TreeNode(1);\n",
    "    root.left = new TreeNode(2);\n",
    "    root.right = new TreeNode(2);\n",
    "    root.left.left = new TreeNode(3);\n",
    "    root.left.right = new TreeNode(4);\n",
    "    root.right.left = new TreeNode(4);\n",
    "    root.right.right = new TreeNode(3);\n",
    "\n",
    "    boolean isSymmetric = isSymmetric(root);\n",
    "    System.out.println(\"Is the tree symmetric? \" + isSymmetric);\n",
    "  }\n",
    "}\n"
   ]
  },
  {
   "cell_type": "code",
   "execution_count": null,
   "metadata": {
    "vscode": {
     "languageId": "java"
    }
   },
   "outputs": [],
   "source": [
    "Solution s = new Solution();\n",
    "s.main();"
   ]
  },
  {
   "cell_type": "code",
   "execution_count": null,
   "metadata": {
    "vscode": {
     "languageId": "java"
    }
   },
   "outputs": [],
   "source": []
  }
 ],
 "metadata": {
  "kernelspec": {
   "display_name": "Java",
   "language": "java",
   "name": "java"
  },
  "language_info": {
   "codemirror_mode": "java",
   "file_extension": ".jshell",
   "mimetype": "text/x-java-source",
   "name": "Java",
   "pygments_lexer": "java",
   "version": "21.0.2+13-LTS-58"
  }
 },
 "nbformat": 4,
 "nbformat_minor": 2
}
